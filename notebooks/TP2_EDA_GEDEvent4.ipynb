{
 "cells": [
  {
   "cell_type": "code",
   "execution_count": 1,
   "id": "5698e9b8",
   "metadata": {},
   "outputs": [],
   "source": [
    "import matplotlib.pyplot as plt\n",
    "import matplotlib.image as mpimg\n",
    "import matplotlib\n",
    "import pandas as pd\n",
    "import numpy as np\n",
    "import seaborn as sns\n",
    "import missingno as msno\n",
    "from scipy import stats as st\n",
    "from sklearn.preprocessing import MinMaxScaler, StandardScaler"
   ]
  },
  {
   "cell_type": "code",
   "execution_count": 2,
   "id": "c355f823",
   "metadata": {},
   "outputs": [],
   "source": [
    "for i in range(0, 348+1): # range is exclusive, so +1\n",
    "    df = pd.read_csv(f\"../datasets/train/grid_{i}.csv\", header=None)\n",
    "    df_scaled = (df.astype(\"float32\") / 3)\n",
    "    df_scaled.to_csv(f\"../datasets/train/grid_scaled_{i}.csv\", index=False, header=False)"
   ]
  },
  {
   "cell_type": "code",
   "execution_count": 3,
   "id": "4652ce9a",
   "metadata": {},
   "outputs": [],
   "source": [
    "for i in range(349, 432+1): # range is exclusive, so +1\n",
    "    df = pd.read_csv(f\"../datasets/test/grid_{i}.csv\", header=None)\n",
    "    df_scaled = (df.astype(\"float32\") / 3)\n",
    "    df_scaled.to_csv(f\"../datasets/test/grid_scaled_{i}.csv\", index=False, header=False)"
   ]
  },
  {
   "cell_type": "markdown",
   "id": "132454f8",
   "metadata": {},
   "source": [
    "La idea era atribuir los eventos según su latitud y longitud a una celda de 1,8° x 1,8° de un arreglo de 100 filas por 200 columnas, agregar los 'best' de los eventos mensualmente y así se llega a una serie de 433 .csv con 20.000 valores cada uno.\n",
    "\n",
    "Adicionalmente se aplicó un método similar a datos conseguidos de https://data.worldbank.org/ para PBI per capita y densidad de población para el año 2000, idealmente se deberían haber usado datos para todo el período del dataset de GEDEvent\n",
    "\n",
    "Patrón de relación de datos detabla de Latitud x Longitud\n",
    "\n",
    "\n",
    "\n",
    "![](Untitled3.png)\n",
    "\n",
    "\n",
    "\n",
    "\n"
   ]
  },
  {
   "cell_type": "code",
   "execution_count": 4,
   "id": "4e935186",
   "metadata": {},
   "outputs": [
    {
     "name": "stdout",
     "output_type": "stream",
     "text": [
      "(348,)\n",
      "0      0.000000\n",
      "1      0.000000\n",
      "2      0.000000\n",
      "3      0.000000\n",
      "4      0.000000\n",
      "         ...   \n",
      "343    0.000000\n",
      "344    0.000000\n",
      "345    0.666667\n",
      "346    0.000000\n",
      "347    0.000000\n",
      "Name: target, Length: 348, dtype: float64\n",
      "(348, 7)\n",
      "            C    N    S         E    O  Densidad de población  PBI per capita\n",
      "0    0.000000  0.0  0.0  0.333333  0.0               0.121558        0.012751\n",
      "1    0.000000  0.0  0.0  0.333333  0.0               0.121558        0.012751\n",
      "2    0.000000  0.0  0.0  0.333333  0.0               0.121558        0.012751\n",
      "3    0.000000  0.0  0.0  0.333333  0.0               0.121558        0.012751\n",
      "4    0.000000  0.0  0.0  0.333333  0.0               0.121558        0.012751\n",
      "..        ...  ...  ...       ...  ...                    ...             ...\n",
      "343  0.000000  0.0  0.0  0.000000  0.0               0.121558        0.012751\n",
      "344  0.000000  0.0  0.0  0.000000  0.0               0.121558        0.012751\n",
      "345  0.000000  0.0  0.0  0.666667  0.0               0.121558        0.012751\n",
      "346  0.666667  0.0  0.0  0.333333  0.0               0.121558        0.012751\n",
      "347  0.000000  0.0  0.0  0.000000  0.0               0.121558        0.012751\n",
      "\n",
      "[348 rows x 7 columns]\n"
     ]
    }
   ],
   "source": [
    "\n",
    "fila=45\n",
    "columna=120\n",
    "x_list, y_list = [], []\n",
    "\n",
    "for i in range(0, 348+1):\n",
    "    df = pd.read_csv(f\"../datasets/train/grid_scaled_{i}.csv\", header=None)\n",
    "    pop = pd.read_csv(f\"../datasets/pop_grid_normalized.csv\", header=None)\n",
    "    gdp = pd.read_csv(f\"../datasets/gdp_grid_normalized.csv\", header=None)\n",
    "    y_list.append(df.iat[fila, columna])\n",
    "    x_list.append([df.iat[fila, columna] , df.iat[fila-1, columna] , df.iat[fila+1, columna] , df.iat[fila, columna+1] , df.iat[fila, columna-1], pop.iat[fila, columna], gdp.iat[fila, columna]])\n",
    "\n",
    "x_train= pd.DataFrame(x_list, columns=[\"C\",\"N\",\"S\",\"E\",\"O\",\"Densidad de población\",\"PBI per capita\"])\n",
    "y_train = pd.DataFrame({\"target\": y_list})\n",
    "\n",
    "x_train = x_train.iloc[:-1].reset_index(drop=True)\n",
    "y_train = y_train[\"target\"].iloc[1:].reset_index(drop=True)\n",
    "\n",
    "print(y_train.shape)\n",
    "print(y_train)\n",
    "print(x_train.shape)\n",
    "print(x_train)"
   ]
  },
  {
   "cell_type": "code",
   "execution_count": 5,
   "id": "a6489a17",
   "metadata": {},
   "outputs": [],
   "source": [
    "pd.DataFrame(x_train).to_csv(\"../datasets/train/x_train.csv\", index=False, header=False)\n",
    "pd.DataFrame(y_train).to_csv(\"../datasets/train/y_train.csv\", index=False, header=False)"
   ]
  }
 ],
 "metadata": {
  "kernelspec": {
   "display_name": "add-env",
   "language": "python",
   "name": "python3"
  },
  "language_info": {
   "codemirror_mode": {
    "name": "ipython",
    "version": 3
   },
   "file_extension": ".py",
   "mimetype": "text/x-python",
   "name": "python",
   "nbconvert_exporter": "python",
   "pygments_lexer": "ipython3",
   "version": "3.11.13"
  }
 },
 "nbformat": 4,
 "nbformat_minor": 5
}
