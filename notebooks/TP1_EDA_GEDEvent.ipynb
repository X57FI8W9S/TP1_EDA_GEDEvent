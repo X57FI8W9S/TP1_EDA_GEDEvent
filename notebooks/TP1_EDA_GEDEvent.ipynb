{
 "cells": [
  {
   "cell_type": "markdown",
   "metadata": {},
   "source": [
    "# TP1 EDA UCDP GEDEvent 25.1\n"
   ]
  },
  {
   "cell_type": "markdown",
   "metadata": {},
   "source": [
    "En este TP se muestra una visión general del dataset UCDP GEDEvent 25.1, de eventos de violencia organizada por actores armados, con resultado letal. Se pretende preparar estos datos para su uso en el entrenamiento de un modelo clasificador que pueda predecir el nivel de muertes estimado (best) agregado sobre una celda de 1,8° de latitud por 1,8° de longitud.\n"
   ]
  },
  {
   "cell_type": "code",
   "execution_count": null,
   "metadata": {
    "execution": {
     "iopub.execute_input": "2025-07-18T01:50:05.161025Z",
     "iopub.status.busy": "2025-07-18T01:50:05.160897Z",
     "iopub.status.idle": "2025-07-18T01:50:05.718101Z",
     "shell.execute_reply": "2025-07-18T01:50:05.717828Z"
    },
    "tags": []
   },
   "outputs": [],
   "source": [
    "import matplotlib.pyplot as plt\n",
    "import matplotlib.image as mpimg\n",
    "import matplotlib\n",
    "import pandas as pd\n",
    "import numpy as np\n",
    "import seaborn as sns\n",
    "import missingno as msno\n",
    "from scipy import stats as st\n",
    "from scipy.stats import describe\n",
    "from scipy.stats import entropy"
   ]
  },
  {
   "cell_type": "code",
   "execution_count": 31,
   "metadata": {
    "execution": {
     "iopub.execute_input": "2025-07-18T01:50:05.719266Z",
     "iopub.status.busy": "2025-07-18T01:50:05.719096Z",
     "iopub.status.idle": "2025-07-18T01:50:07.272686Z",
     "shell.execute_reply": "2025-07-18T01:50:07.272349Z"
    },
    "tags": []
   },
   "outputs": [
    {
     "name": "stderr",
     "output_type": "stream",
     "text": [
      "/tmp/ipykernel_656842/1376209687.py:2: DtypeWarning: Columns (47) have mixed types. Specify dtype option on import or set low_memory=False.\n",
      "  raw_GEDEvent = pd.read_csv('../datasets/GEDEvent_v25_1.csv')\n"
     ]
    }
   ],
   "source": [
    "import pandas as pd\n",
    "raw_GEDEvent = pd.read_csv('../datasets/GEDEvent_v25_1.csv')"
   ]
  },
  {
   "cell_type": "markdown",
   "metadata": {},
   "source": [
    "\n",
    "## EDA (Análisis Exploratorio de Datos)"
   ]
  },
  {
   "cell_type": "markdown",
   "metadata": {},
   "source": [
    "### Columnas y tipos de datos"
   ]
  },
  {
   "cell_type": "code",
   "execution_count": null,
   "metadata": {
    "execution": {
     "iopub.execute_input": "2025-07-18T01:50:07.311632Z",
     "iopub.status.busy": "2025-07-18T01:50:07.311479Z",
     "iopub.status.idle": "2025-07-18T01:50:07.314553Z",
     "shell.execute_reply": "2025-07-18T01:50:07.314371Z"
    },
    "tags": []
   },
   "outputs": [],
   "source": [
    "raw_GEDEvent.columns"
   ]
  },
  {
   "cell_type": "code",
   "execution_count": null,
   "metadata": {
    "execution": {
     "iopub.execute_input": "2025-07-18T01:50:07.315412Z",
     "iopub.status.busy": "2025-07-18T01:50:07.315335Z",
     "iopub.status.idle": "2025-07-18T01:50:07.327374Z",
     "shell.execute_reply": "2025-07-18T01:50:07.327099Z"
    }
   },
   "outputs": [],
   "source": [
    "# Armamos un nuevo dataset con menos columnas para el análisis\n",
    "GEDEvent = raw_GEDEvent.drop(columns=['id', 'relid', 'year', 'active_year', 'code_status',\n",
    "       'conflict_dset_id', 'conflict_new_id', 'conflict_name', 'dyad_dset_id',\n",
    "       'dyad_new_id', 'dyad_name', 'side_a_dset_id', 'side_a_new_id', 'number_of_sources',\n",
    "       'source_article', 'source_office', 'source_date', 'source_headline',\n",
    "       'source_original', 'where_prec', 'where_coordinates',\n",
    "       'where_description', 'adm_2',\n",
    "       'side_b_dset_id', 'side_b_new_id','geom_wkt', 'priogrid_gid', 'country_id',\n",
    "       'event_clarity', 'date_prec', 'deaths_a',\n",
    "       'deaths_b', 'deaths_unknown', 'high', 'low',\n",
    "       'gwnoa', 'gwnob'], axis=1)"
   ]
  },
  {
   "cell_type": "code",
   "execution_count": null,
   "metadata": {
    "execution": {
     "iopub.execute_input": "2025-07-18T01:50:07.328473Z",
     "iopub.status.busy": "2025-07-18T01:50:07.328384Z",
     "iopub.status.idle": "2025-07-18T01:50:07.330255Z",
     "shell.execute_reply": "2025-07-18T01:50:07.330085Z"
    }
   },
   "outputs": [],
   "source": [
    "GEDEvent.shape"
   ]
  },
  {
   "cell_type": "code",
   "execution_count": null,
   "metadata": {
    "execution": {
     "iopub.execute_input": "2025-07-18T01:50:07.331141Z",
     "iopub.status.busy": "2025-07-18T01:50:07.331070Z",
     "iopub.status.idle": "2025-07-18T01:50:07.332809Z",
     "shell.execute_reply": "2025-07-18T01:50:07.332647Z"
    },
    "tags": []
   },
   "outputs": [],
   "source": [
    "GEDEvent.columns"
   ]
  },
  {
   "cell_type": "markdown",
   "metadata": {},
   "source": [
    "\n",
    "### Detalles de las columnas del dataset\n",
    "\n",
    "#### Variables numéricas:\n",
    "\n",
    "### Fecha de inicio y fin\n",
    "* date_start\n",
    "* date_end                       \n",
    "\n",
    "### Coordenadas geográficas    \n",
    "* latitude\n",
    "* longitude\n",
    "\n",
    "### Muertes del evento\n",
    "* best:                                     La mejor estimación (más probable) del total \n",
    "                                            de muertes resultantes de un evento.\n",
    "* deaths_civilians\n",
    "\n",
    "\n",
    "\n",
    "#### Variables Categóricas:\n",
    "\n",
    "### Continente, país y subdivisión     \n",
    "* region:                                   Africa, Americas, Asia, Europe, Middle East\n",
    "* country\n",
    "* adm_1:                                    \"Provincia\" donde ocurrió el evento\n",
    "\n",
    "### Tipo de violencia y actores\n",
    "* type_of_violence:                         1 - conflicto estatal\n",
    "                                            2 - conflicto no estatal\n",
    "                                            3 - violencia unilateral\n",
    "* side_a\n",
    "* side_b\n"
   ]
  },
  {
   "cell_type": "code",
   "execution_count": null,
   "metadata": {
    "execution": {
     "iopub.execute_input": "2025-07-18T01:50:07.333575Z",
     "iopub.status.busy": "2025-07-18T01:50:07.333508Z",
     "iopub.status.idle": "2025-07-18T01:50:07.350404Z",
     "shell.execute_reply": "2025-07-18T01:50:07.350177Z"
    },
    "tags": []
   },
   "outputs": [],
   "source": [
    "# Reordeno las columnas para poder identificarlas y analizarlas más cómodamente \n",
    "nuevo_orden = ['date_start', 'date_end',                           # Fecha de inicio y fin\n",
    "               'latitude', 'longitude',                            # Coordenadas geográficas    \n",
    "               'best', 'deaths_civilians',                         # Muertes del evento\n",
    "               'region', 'country', 'adm_1',                       # Continente, país y subdivisión\n",
    "               'type_of_violence', 'side_a', 'side_b',             # Tipo de violencia y actores\n",
    "]\n",
    "GEDEvent = GEDEvent[nuevo_orden]"
   ]
  },
  {
   "cell_type": "markdown",
   "metadata": {},
   "source": [
    "### Vista general del dataset"
   ]
  },
  {
   "cell_type": "code",
   "execution_count": null,
   "metadata": {
    "execution": {
     "iopub.execute_input": "2025-07-18T01:50:07.351349Z",
     "iopub.status.busy": "2025-07-18T01:50:07.351264Z",
     "iopub.status.idle": "2025-07-18T01:50:07.356973Z",
     "shell.execute_reply": "2025-07-18T01:50:07.356801Z"
    },
    "tags": []
   },
   "outputs": [],
   "source": [
    "GEDEvent.head(10)"
   ]
  },
  {
   "cell_type": "code",
   "execution_count": null,
   "metadata": {
    "execution": {
     "iopub.execute_input": "2025-07-18T01:50:07.357741Z",
     "iopub.status.busy": "2025-07-18T01:50:07.357668Z",
     "iopub.status.idle": "2025-07-18T01:50:07.359916Z",
     "shell.execute_reply": "2025-07-18T01:50:07.359704Z"
    }
   },
   "outputs": [],
   "source": [
    "GEDEvent.iloc[0]"
   ]
  },
  {
   "cell_type": "code",
   "execution_count": null,
   "metadata": {
    "execution": {
     "iopub.execute_input": "2025-07-18T01:50:07.360899Z",
     "iopub.status.busy": "2025-07-18T01:50:07.360828Z",
     "iopub.status.idle": "2025-07-18T01:50:07.414382Z",
     "shell.execute_reply": "2025-07-18T01:50:07.413973Z"
    }
   },
   "outputs": [],
   "source": [
    "GEDEvent.info()"
   ]
  },
  {
   "cell_type": "code",
   "execution_count": null,
   "metadata": {
    "execution": {
     "iopub.execute_input": "2025-07-18T01:50:07.415466Z",
     "iopub.status.busy": "2025-07-18T01:50:07.415353Z",
     "iopub.status.idle": "2025-07-18T01:50:07.419012Z",
     "shell.execute_reply": "2025-07-18T01:50:07.418848Z"
    }
   },
   "outputs": [],
   "source": [
    "# Me fijo si hay algún valor raro en posición\n",
    "GEDEvent[(GEDEvent['latitude'] < -90) | (GEDEvent['latitude'] > 90)]"
   ]
  },
  {
   "cell_type": "markdown",
   "metadata": {},
   "source": [
    "### Ajuste de los tipos de datos"
   ]
  },
  {
   "cell_type": "code",
   "execution_count": null,
   "metadata": {
    "execution": {
     "iopub.execute_input": "2025-07-18T01:50:07.420034Z",
     "iopub.status.busy": "2025-07-18T01:50:07.419887Z",
     "iopub.status.idle": "2025-07-18T01:50:07.532478Z",
     "shell.execute_reply": "2025-07-18T01:50:07.532152Z"
    }
   },
   "outputs": [],
   "source": [
    "\n",
    "         \n",
    "# Numéricas temporales         \n",
    "GEDEvent['date_start'] = pd.to_datetime(GEDEvent['date_start'])\n",
    "GEDEvent['date_end'] = pd.to_datetime(GEDEvent['date_end'])\n",
    "\n",
    "# Categóricas\n",
    "GEDEvent['region'] = GEDEvent['region'].astype('category')\n",
    "GEDEvent['country'] = GEDEvent['country'].astype('category')\n",
    "GEDEvent['adm_1'] = GEDEvent['adm_1'].astype('category')\n",
    "GEDEvent['type_of_violence'] = GEDEvent['type_of_violence'].astype('category')\n",
    "GEDEvent['side_a'] = GEDEvent['side_a'].astype('category')\n",
    "GEDEvent['side_b'] = GEDEvent['side_b'].astype('category')\n",
    "\n",
    "\n"
   ]
  },
  {
   "cell_type": "code",
   "execution_count": null,
   "metadata": {
    "execution": {
     "iopub.execute_input": "2025-07-18T01:50:07.533814Z",
     "iopub.status.busy": "2025-07-18T01:50:07.533677Z",
     "iopub.status.idle": "2025-07-18T01:50:07.543793Z",
     "shell.execute_reply": "2025-07-18T01:50:07.543252Z"
    }
   },
   "outputs": [],
   "source": [
    "GEDEvent.info()"
   ]
  },
  {
   "cell_type": "markdown",
   "metadata": {},
   "source": [
    "---"
   ]
  },
  {
   "cell_type": "code",
   "execution_count": null,
   "metadata": {
    "execution": {
     "iopub.execute_input": "2025-07-18T01:50:07.545323Z",
     "iopub.status.busy": "2025-07-18T01:50:07.545172Z",
     "iopub.status.idle": "2025-07-18T01:50:07.549455Z",
     "shell.execute_reply": "2025-07-18T01:50:07.549220Z"
    }
   },
   "outputs": [],
   "source": [
    "GEDEvent[GEDEvent['best'] == '0']"
   ]
  },
  {
   "cell_type": "markdown",
   "metadata": {},
   "source": [
    "## Cardinalidad: número de categorías únicas."
   ]
  },
  {
   "cell_type": "code",
   "execution_count": null,
   "metadata": {
    "execution": {
     "iopub.execute_input": "2025-07-18T01:50:07.550530Z",
     "iopub.status.busy": "2025-07-18T01:50:07.550425Z",
     "iopub.status.idle": "2025-07-18T01:50:07.566726Z",
     "shell.execute_reply": "2025-07-18T01:50:07.566520Z"
    }
   },
   "outputs": [],
   "source": [
    "GEDEvent.describe(include='category')"
   ]
  },
  {
   "cell_type": "code",
   "execution_count": null,
   "metadata": {
    "execution": {
     "iopub.execute_input": "2025-07-18T01:50:07.567700Z",
     "iopub.status.busy": "2025-07-18T01:50:07.567584Z",
     "iopub.status.idle": "2025-07-18T01:50:07.571062Z",
     "shell.execute_reply": "2025-07-18T01:50:07.570751Z"
    },
    "tags": []
   },
   "outputs": [],
   "source": [
    "# Top 10 Actor A\n",
    "GEDEvent['side_a'].unique()"
   ]
  },
  {
   "cell_type": "markdown",
   "metadata": {},
   "source": [
    "## Rango, frecuencia absoluta y frecuencia relativa: \n",
    "Número de veces que aparece cada categoría y su proporción con respecto al total."
   ]
  },
  {
   "cell_type": "code",
   "execution_count": null,
   "metadata": {
    "execution": {
     "iopub.execute_input": "2025-07-18T01:50:07.572392Z",
     "iopub.status.busy": "2025-07-18T01:50:07.572215Z",
     "iopub.status.idle": "2025-07-18T01:50:07.576947Z",
     "shell.execute_reply": "2025-07-18T01:50:07.576741Z"
    }
   },
   "outputs": [],
   "source": [
    "\n",
    "Ev= GEDEvent['side_a'].count()\n",
    "print()\n",
    "print(\"EDA variables categóricas.\")\n",
    "print()\n",
    "print(\"side_a\")\n",
    "print()\n",
    "v_counts = GEDEvent['side_a'].value_counts().head(10)\n",
    "porcentajes = (v_counts / Ev) * 100\n",
    "\n",
    "rango = v_counts.iloc[0] - GEDEvent['side_a'].value_counts().tail(1).iloc[0]\n",
    "\n",
    "for label, count, pct in zip(v_counts.index, v_counts.values, porcentajes):\n",
    "    print(f\"{label}: {count} ({pct:.2f}%)\")\n",
    "print()\n",
    "\n",
    "v_counts = GEDEvent['side_a'].value_counts().tail(1)\n",
    "porcentajes = (v_counts / Ev) * 100\n",
    "\n",
    "for label, count, pct in zip(v_counts.index, v_counts.values, porcentajes):\n",
    "    print(f\"{label}: {count} ({pct:.2f}%)\")\n",
    "print(f\"Rango: {rango}\")\n",
    "print(\"-\" * 60)\n",
    "print()\n",
    "print(\"side_b\")\n",
    "print()\n",
    "\n",
    "\n",
    "v_counts = GEDEvent['side_b'].value_counts().head(10)\n",
    "porcentajes = (v_counts / Ev) * 100\n",
    "rango = v_counts.iloc[0] - GEDEvent['side_b'].value_counts().tail(1).iloc[0]\n",
    "\n",
    "for label, count, pct in zip(v_counts.index, v_counts.values, porcentajes):\n",
    "    print(f\"{label}: {count} ({pct:.2f}%)\")\n",
    "print()\n",
    "\n",
    "v_counts = GEDEvent['side_b'].value_counts().tail(1)\n",
    "porcentajes = (v_counts / Ev) * 100\n",
    "\n",
    "for label, count, pct in zip(v_counts.index, v_counts.values, porcentajes):\n",
    "    print(f\"{label}: {count} ({pct:.2f}%)\")\n",
    "print(f\"Rango: {rango}\")\n",
    "print(\"-\" * 60)\n",
    "print()\n",
    "print(\"region\")\n",
    "print()\n",
    "\n",
    "\n",
    "v_counts = GEDEvent['region'].value_counts().head(10)\n",
    "porcentajes = (v_counts / Ev) * 100\n",
    "rango = v_counts.iloc[0] - GEDEvent['region'].value_counts().tail(1).iloc[0]\n",
    "\n",
    "for label, count, pct in zip(v_counts.index, v_counts.values, porcentajes):\n",
    "    print(f\"{label}: {count} ({pct:.2f}%)\")\n",
    "print(f\"Rango: {rango}\")\n",
    "print(\"-\" * 60)\n",
    "print()\n",
    "print(\"country\")\n",
    "print()\n",
    "\n",
    "\n",
    "v_counts = GEDEvent['country'].value_counts().head(10)\n",
    "porcentajes = (v_counts / Ev) * 100\n",
    "rango = v_counts.iloc[0] - GEDEvent['country'].value_counts().tail(1).iloc[0]\n",
    "\n",
    "for label, count, pct in zip(v_counts.index, v_counts.values, porcentajes):\n",
    "    print(f\"{label}: {count} ({pct:.2f}%)\")\n",
    "print()\n",
    "\n",
    "v_counts = GEDEvent['country'].value_counts().tail(1)\n",
    "porcentajes = (v_counts / Ev) * 100\n",
    "\n",
    "for label, count, pct in zip(v_counts.index, v_counts.values, porcentajes):\n",
    "    print(f\"{label}: {count} ({pct:.2f}%)\")\n",
    "print(f\"Rango: {rango}\")\n",
    "print(\"-\" * 60)\n",
    "print()\n",
    "print(\"adm_1\")\n",
    "print()\n",
    "\n",
    "\n",
    "v_counts = GEDEvent['adm_1'].value_counts().head(10)\n",
    "porcentajes = (v_counts / Ev) * 100\n",
    "rango = v_counts.iloc[0] - GEDEvent['adm_1'].value_counts().tail(1).iloc[0]\n",
    "\n",
    "for label, count, pct in zip(v_counts.index, v_counts.values, porcentajes):\n",
    "    print(f\"{label}: {count} ({pct:.2f}%)\")\n",
    "print()\n",
    "\n",
    "v_counts = GEDEvent['adm_1'].value_counts().tail(1)\n",
    "porcentajes = (v_counts / Ev) * 100\n",
    "\n",
    "for label, count, pct in zip(v_counts.index, v_counts.values, porcentajes):\n",
    "    print(f\"{label}: {count} ({pct:.2f}%)\")\n",
    "print(f\"Rango: {rango}\")\n",
    "print(\"-\" * 60)\n",
    "print()\n",
    "print(\"type_of_violence\")\n",
    "print()\n",
    "\n",
    "\n",
    "v_counts = GEDEvent['type_of_violence'].value_counts().head(10)\n",
    "porcentajes = (v_counts / Ev) * 100\n",
    "rango = v_counts.iloc[0] - GEDEvent['type_of_violence'].value_counts().tail(1).iloc[0]\n",
    "\n",
    "for label, count, pct in zip(v_counts.index, v_counts.values, porcentajes):\n",
    "    print(f\"{label}: {count} ({pct:.2f}%)\")\n",
    "print()\n",
    "print('1:conflicto estatal - 2:conflicto no estatal - 3:violencia unilateral')\n",
    "print(f\"Rango: {rango}\")\n",
    "print(\"-\" * 60)\n"
   ]
  },
  {
   "cell_type": "code",
   "execution_count": null,
   "metadata": {
    "execution": {
     "iopub.execute_input": "2025-07-18T01:50:07.577702Z",
     "iopub.status.busy": "2025-07-18T01:50:07.577624Z",
     "iopub.status.idle": "2025-07-18T01:50:10.178290Z",
     "shell.execute_reply": "2025-07-18T01:50:10.177935Z"
    }
   },
   "outputs": [],
   "source": [
    "top_10a = GEDEvent['side_a'].value_counts().head(10)\n",
    "top_10a.plot(kind='bar', figsize=(10, 6), color='skyblue')\n",
    "\n",
    "plt.show()\n",
    "\n",
    "top_10b = GEDEvent['side_b'].value_counts().head(10)\n",
    "top_10b.plot(kind='bar', figsize=(10, 6), color='salmon')\n",
    "\n",
    "plt.show()\n",
    "\n",
    "top_10a = GEDEvent['region'].value_counts().head(10)\n",
    "top_10a.plot(kind='bar', figsize=(10, 6), color='lightblue')\n",
    "\n",
    "plt.show()\n",
    "\n",
    "top_10b = GEDEvent['country'].value_counts().head(10)\n",
    "top_10b.plot(kind='bar', figsize=(10, 6), color='lightgreen')\n",
    "\n",
    "plt.show()\n",
    "\n",
    "top_10a = GEDEvent['adm_1'].value_counts().head(10)\n",
    "top_10a.plot(kind='bar', figsize=(10, 6), color='orange')\n",
    "\n",
    "plt.show()\n",
    "\n",
    "top_10b = GEDEvent['type_of_violence'].value_counts().head(10)\n",
    "top_10b.plot(kind='bar', figsize=(10, 6), color='purple')\n",
    "\n",
    "plt.show()\n",
    "print('1:conflicto estatal - 2:conflicto no estatal - 3:violencia unilateral')"
   ]
  },
  {
   "cell_type": "markdown",
   "metadata": {},
   "source": [
    "## Entropía de Shannon"
   ]
  },
  {
   "cell_type": "code",
   "execution_count": null,
   "metadata": {},
   "outputs": [],
   "source": [
    "for col in GEDEvent.select_dtypes(include=['object', 'category']):\n",
    "    p = GEDEvent[col].value_counts(normalize=True)\n",
    "    entropia = -np.sum(p * np.log2(p))\n",
    "    print(f\"Entropía de Shannon de '{col}': {entropia:.4f}\")"
   ]
  },
  {
   "cell_type": "code",
   "execution_count": null,
   "metadata": {},
   "outputs": [],
   "source": [
    "\n",
    "# Agrupar eventos por día y contar\n",
    "eventos_por_dia = GEDEvent['date_start'].dt.date.value_counts().sort_index()\n",
    "\n",
    "# Crear un DataFrame con las fechas y los conteos\n",
    "df_eventos = pd.DataFrame({\n",
    "    \"fecha\": eventos_por_dia.index,\n",
    "    \"cantidad_eventos\": eventos_por_dia.values\n",
    "})\n",
    "\n",
    "# Graficar \n",
    "plt.figure(figsize=(14, 4))\n",
    "sns.lineplot(data=df_eventos, x=\"fecha\", y=\"cantidad_eventos\", label=\"Eventos por día\")\n",
    "\n",
    "# Títulos y etiquetas\n",
    "plt.title(\"Número de eventos por día\")\n",
    "plt.xlabel(\"Fecha\")\n",
    "#plt.yscale('log')\n",
    "plt.ylabel(\"Cantidad de eventos\")\n",
    "plt.grid(True)\n",
    "plt.show()\n",
    "\n"
   ]
  },
  {
   "cell_type": "code",
   "execution_count": null,
   "metadata": {},
   "outputs": [],
   "source": [
    "# Análisis descriptivo de la variable 'best' por región\n",
    "print(\"Análisis descriptivo de la variable 'best' por región\")\n",
    "regiones = GEDEvent['region'].unique()\n",
    "print(\"-\" * 60)\n",
    "\n",
    "for region in regiones:\n",
    "    print(f\"\\nRegión: {region}\")\n",
    "    print(\"-\" * (len(region) + 8))\n",
    "\n",
    "\n",
    "    region_best = GEDEvent[GEDEvent['region'] == region]['best']\n",
    "    print(f\"  Suma Total: {region_best.count()}\")\n",
    "    print(f\"  Media: {region_best.mean():.2f}\")\n",
    "    print(f\"  Mediana: {region_best.median():.2f}\")\n",
    "    print(f\"  Moda: {region_best.mode().tolist()}\")\n",
    "    print(f\"  Desviación Estándar: {region_best.std():.2f}\")\n",
    "    print(f\"  Varianza: {region_best.var():.2f}\")\n",
    "    print(f\"  Mínimo: {region_best.min()}\")\n",
    "    print(f\"  Cuartil 1: {region_best.quantile(0.25):.2f}\")\n",
    "    print(f\"  Cuartil 3: {region_best.quantile(0.75):.2f}\")\n",
    "    print(f\"  Máximo: {region_best.max()}\")\n",
    "    print(f\"  Rango Intercuartil: {(region_best.quantile(0.75)-region_best.quantile(0.25)):.2f}\")\n",
    "    print(f\"  Asimetría: {region_best.skew():.2f}\")\n",
    "    print(f\"  Curtosis: {region_best.kurtosis():.2f}\")\n",
    "    print(\"-\" * (len(region) + 8))\n",
    "\n"
   ]
  },
  {
   "cell_type": "code",
   "execution_count": null,
   "metadata": {},
   "outputs": [],
   "source": [
    "# Calcular muertes mensuales por región\n",
    "# Agrupar por región y resamplear por mes, sumando las muertes\n",
    "muertes_mensuales_por_region = GEDEvent.groupby('region').resample('M', on='date_start')['best'].sum().reset_index()\n",
    "muertes_mensuales_por_region['date_start'] = muertes_mensuales_por_region['date_start'].dt.to_period('M').dt.to_timestamp()\n",
    "\n",
    "# Promedio móvil 12 meses\n",
    "muertes_mensuales_por_region['smoothed_best'] = muertes_mensuales_por_region.groupby('region')['best'].transform(lambda x: x.rolling(window=12, min_periods=1).mean())\n",
    "\n",
    "plt.figure(figsize=(16, 9)) \n",
    "sns.lineplot(data=muertes_mensuales_por_region, x='date_start', y='smoothed_best', hue='region', linewidth=2)\n",
    "\n",
    "\n",
    "plt.title('Mejor estimación muertes mensuales, promedio móvil 12 meses.')\n",
    "plt.ylabel('best (log)')\n",
    "plt.yscale('log')\n",
    "plt.legend(title='Region')\n",
    "plt.grid(True)\n",
    "plt.show()"
   ]
  },
  {
   "cell_type": "markdown",
   "metadata": {},
   "source": [
    "## Datos faltantes\n",
    "Todos son adm_1 o \"provincia\" y la mayoría son de Europa. Todos tienen coordenadas geográficas, así que el dato, de existir, es recuperable."
   ]
  },
  {
   "cell_type": "code",
   "execution_count": null,
   "metadata": {},
   "outputs": [],
   "source": [
    "\n",
    "msno.matrix(GEDEvent)\n",
    "plt.show()\n",
    "\n",
    "\n",
    "tabla_cruzada = pd.crosstab(GEDEvent['region'], GEDEvent['adm_1'].isna(), normalize='index') * 100\n",
    "print(tabla_cruzada.round(2))\n",
    "\n",
    "\n"
   ]
  },
  {
   "cell_type": "code",
   "execution_count": null,
   "metadata": {},
   "outputs": [],
   "source": [
    "# Paso 1: Expandir eventos a muertes mensuales\n",
    "print(\"Distribuyendo muertes mensualmente...\")\n",
    "filas = []\n",
    "for _, evento in GEDEvent.iterrows():\n",
    "    duracion = pd.date_range(evento['date_start'], evento['date_end'], freq='MS')\n",
    "    if len(duracion) == 0:\n",
    "        duracion = pd.date_range(evento['date_start'], periods=1, freq='MS')\n",
    "    muertes_mensuales = evento['best'] / len(duracion)\n",
    "    for d in duracion:\n",
    "        filas.append({\n",
    "            'año': d.year,\n",
    "            'mes': d.month,\n",
    "            'latitud': evento['latitude'],\n",
    "            'longitud': evento['longitude'],\n",
    "            'muertes': muertes_mensuales\n",
    "        })\n",
    "\n",
    "df = pd.DataFrame(filas)"
   ]
  },
  {
   "cell_type": "code",
   "execution_count": null,
   "metadata": {},
   "outputs": [],
   "source": [
    "# Paso 2: Calcular índices de la cuadrícula 100x200\n",
    "filas_cuadricula, columnas_cuadricula = 100, 200\n",
    "df['fila'] = np.floor((-df['latitud'] + 90) / 1.8).astype(int)\n",
    "df['columna'] = np.floor((df['longitud'] + 180) / 1.8).astype(int)\n",
    "df['fila'] = df['fila'].clip(0, filas_cuadricula - 1)\n",
    "df['columna'] = df['columna'].clip(0, columnas_cuadricula - 1)"
   ]
  },
  {
   "cell_type": "code",
   "execution_count": null,
   "metadata": {},
   "outputs": [],
   "source": [
    "# Paso 3: Fechas únicas ordenadas\n",
    "fechas = df[['año', 'mes']].drop_duplicates().sort_values(by=['año', 'mes']).to_records(index=False)"
   ]
  },
  {
   "cell_type": "code",
   "execution_count": null,
   "metadata": {},
   "outputs": [],
   "source": [
    "# Paso 4: Crear grillas por mes (muertes acumuladas)\n",
    "grillas_muertes = []\n",
    "for año, mes in fechas:\n",
    "    datos_mes = df[(df['año'] == año) & (df['mes'] == mes)]\n",
    "    cuadricula = np.zeros((filas_cuadricula, columnas_cuadricula))\n",
    "    grupo = datos_mes.groupby(['fila', 'columna'])['muertes'].sum()\n",
    "    for (f, c), valor in grupo.items():\n",
    "        cuadricula[int(f), int(c)] = valor\n",
    "    grillas_muertes.append(cuadricula)\n",
    "\n"
   ]
  },
  {
   "cell_type": "code",
   "execution_count": null,
   "metadata": {},
   "outputs": [],
   "source": [
    "# Paso 5: Clasificar las celdas en 4 niveles\n",
    "def asignar_bin(cuadricula):\n",
    "    niveles = np.full_like(cuadricula, 0)\n",
    "    niveles[(cuadricula > 0) & (cuadricula <= 5)] = 1    # Bajo\n",
    "    niveles[(cuadricula > 5) & (cuadricula <= 100)] = 2  # Medio\n",
    "    niveles[cuadricula > 100] = 3                        # Alto\n",
    "    return niveles\n",
    "\n",
    "grillas_clasificadas = [asignar_bin(c) for c in grillas_muertes]"
   ]
  },
  {
   "cell_type": "code",
   "execution_count": null,
   "metadata": {},
   "outputs": [],
   "source": [
    "# Paso 6: Configurar animación\n",
    "etiquetas = ['Seguro', 'Bajo', 'Medio', 'Alto']\n",
    "colores = ['white', 'yellow', 'orange', 'red']\n",
    "cmapa = plt.matplotlib.colors.ListedColormap(colores)\n",
    "imagen_mapa = mpimg.imread('img/World_location_map_(equirectangular_180)2.png')\n",
    "fig, ax = plt.subplots(figsize=(12, 6))\n",
    "\n",
    "def actualizar(frame):\n",
    "    ax.clear()\n",
    "    cuadricula = grillas_clasificadas[frame]\n",
    "    año, mes = fechas[frame]\n",
    "    ax.imshow(imagen_mapa, extent=[0, columnas_cuadricula, filas_cuadricula, 0])\n",
    "    ax.imshow(cuadricula, cmap=cmapa, vmin=0, vmax=3, alpha=0.6)\n",
    "\n",
    "    ax.set_title(f\"Muertes por conflicto armado: {año}-{mes:02d}\")\n",
    "    ax.axis('off')\n",
    "\n",
    "\n",
    "\n",
    "    \n",
    "plt.close(fig)"
   ]
  },
  {
   "cell_type": "code",
   "execution_count": null,
   "metadata": {},
   "outputs": [],
   "source": [
    "from matplotlib.animation import FuncAnimation\n",
    "from IPython.display import HTML\n",
    "\n",
    "matplotlib.rcParams['animation.embed_limit'] = 200 * 1024 * 1024\n",
    "\n",
    "# Paso 7: Animar\n",
    "ani = FuncAnimation(fig, actualizar, frames=len(fechas), interval=150)\n",
    "HTML(ani.to_jshtml())\n"
   ]
  }
 ],
 "metadata": {
  "kernelspec": {
   "display_name": "add-env",
   "language": "python",
   "name": "python3"
  },
  "language_info": {
   "codemirror_mode": {
    "name": "ipython",
    "version": 3
   },
   "file_extension": ".py",
   "mimetype": "text/x-python",
   "name": "python",
   "nbconvert_exporter": "python",
   "pygments_lexer": "ipython3",
   "version": "3.11.13"
  }
 },
 "nbformat": 4,
 "nbformat_minor": 4
}
