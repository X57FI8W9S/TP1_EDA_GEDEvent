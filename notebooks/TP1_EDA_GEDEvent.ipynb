{
 "cells": [
  {
   "cell_type": "markdown",
   "metadata": {},
   "source": [
    "## Análisis de datos - Clase 3"
   ]
  },
  {
   "cell_type": "markdown",
   "metadata": {},
   "source": [
    "# Taller práctico - análisis de un dataset\n"
   ]
  },
  {
   "cell_type": "markdown",
   "metadata": {},
   "source": [
    "En esta clase vamos a analizar en forma completa un dataset con datos de Fórmula 1 de la temporada 2024 (los datos fueron extraídos con la biblioteca Fastf1). El dataset contiene información sobre las carreras, los pilotos, los tiempos y los resultados de cada evento.\n"
   ]
  },
  {
   "cell_type": "code",
   "execution_count": 2,
   "metadata": {
    "execution": {
     "iopub.execute_input": "2025-07-18T01:50:05.161025Z",
     "iopub.status.busy": "2025-07-18T01:50:05.160897Z",
     "iopub.status.idle": "2025-07-18T01:50:05.718101Z",
     "shell.execute_reply": "2025-07-18T01:50:05.717828Z"
    },
    "tags": []
   },
   "outputs": [],
   "source": [
    "import matplotlib.pyplot as plt\n",
    "import pandas as pd\n",
    "import numpy as np\n",
    "import seaborn as sns\n",
    "import missingno as msno\n",
    "from scipy import stats as st\n",
    "from scipy.stats import describe"
   ]
  },
  {
   "cell_type": "code",
   "execution_count": 3,
   "metadata": {
    "execution": {
     "iopub.execute_input": "2025-07-18T01:50:05.719266Z",
     "iopub.status.busy": "2025-07-18T01:50:05.719096Z",
     "iopub.status.idle": "2025-07-18T01:50:07.272686Z",
     "shell.execute_reply": "2025-07-18T01:50:07.272349Z"
    },
    "tags": []
   },
   "outputs": [
    {
     "name": "stderr",
     "output_type": "stream",
     "text": [
      "/tmp/ipykernel_172533/2568653710.py:2: DtypeWarning: Columns (47) have mixed types. Specify dtype option on import or set low_memory=False.\n",
      "  raw_GEDEvent = pd.read_csv('../datasets/GEDEvent_v25_1.csv')\n"
     ]
    }
   ],
   "source": [
    "# Dataset de carreras del 2024\n",
    "raw_GEDEvent = pd.read_csv('../datasets/GEDEvent_v25_1.csv')"
   ]
  },
  {
   "cell_type": "markdown",
   "metadata": {},
   "source": [
    "---\n",
    "## EDA (Exploratory Data Analysis)\n",
    "---"
   ]
  },
  {
   "cell_type": "markdown",
   "metadata": {},
   "source": [
    "### Columnas y tipos de datos"
   ]
  },
  {
   "cell_type": "code",
   "execution_count": 4,
   "metadata": {
    "execution": {
     "iopub.execute_input": "2025-07-18T01:50:07.311632Z",
     "iopub.status.busy": "2025-07-18T01:50:07.311479Z",
     "iopub.status.idle": "2025-07-18T01:50:07.314553Z",
     "shell.execute_reply": "2025-07-18T01:50:07.314371Z"
    },
    "tags": []
   },
   "outputs": [
    {
     "data": {
      "text/plain": [
       "Index(['id', 'relid', 'year', 'active_year', 'code_status', 'type_of_violence',\n",
       "       'conflict_dset_id', 'conflict_new_id', 'conflict_name', 'dyad_dset_id',\n",
       "       'dyad_new_id', 'dyad_name', 'side_a_dset_id', 'side_a_new_id', 'side_a',\n",
       "       'side_b_dset_id', 'side_b_new_id', 'side_b', 'number_of_sources',\n",
       "       'source_article', 'source_office', 'source_date', 'source_headline',\n",
       "       'source_original', 'where_prec', 'where_coordinates',\n",
       "       'where_description', 'adm_1', 'adm_2', 'latitude', 'longitude',\n",
       "       'geom_wkt', 'priogrid_gid', 'country', 'country_id', 'region',\n",
       "       'event_clarity', 'date_prec', 'date_start', 'date_end', 'deaths_a',\n",
       "       'deaths_b', 'deaths_civilians', 'deaths_unknown', 'best', 'high', 'low',\n",
       "       'gwnoa', 'gwnob'],\n",
       "      dtype='object')"
      ]
     },
     "execution_count": 4,
     "metadata": {},
     "output_type": "execute_result"
    }
   ],
   "source": [
    "raw_GEDEvent.columns"
   ]
  },
  {
   "cell_type": "code",
   "execution_count": 5,
   "metadata": {
    "execution": {
     "iopub.execute_input": "2025-07-18T01:50:07.315412Z",
     "iopub.status.busy": "2025-07-18T01:50:07.315335Z",
     "iopub.status.idle": "2025-07-18T01:50:07.327374Z",
     "shell.execute_reply": "2025-07-18T01:50:07.327099Z"
    }
   },
   "outputs": [],
   "source": [
    "# Armamos un nuevo dataset con menos columnas para el análisis\n",
    "GEDEvent = raw_GEDEvent.drop(columns=['id', 'relid', 'year', 'active_year', 'code_status',\n",
    "       'conflict_dset_id', 'conflict_new_id', 'conflict_name', 'dyad_dset_id',\n",
    "       'dyad_new_id', 'dyad_name', 'side_a_dset_id', 'side_a_new_id', 'number_of_sources',\n",
    "       'source_article', 'source_office', 'source_date', 'source_headline',\n",
    "       'source_original', 'where_prec', 'where_coordinates',\n",
    "       'where_description', 'adm_2',\n",
    "       'side_b_dset_id', 'side_b_new_id','geom_wkt', 'priogrid_gid', 'country_id',\n",
    "       'event_clarity', 'date_prec', 'deaths_a',\n",
    "       'deaths_b', 'deaths_unknown', 'high', 'low',\n",
    "       'gwnoa', 'gwnob'], axis=1)"
   ]
  },
  {
   "cell_type": "code",
   "execution_count": 6,
   "metadata": {
    "execution": {
     "iopub.execute_input": "2025-07-18T01:50:07.328473Z",
     "iopub.status.busy": "2025-07-18T01:50:07.328384Z",
     "iopub.status.idle": "2025-07-18T01:50:07.330255Z",
     "shell.execute_reply": "2025-07-18T01:50:07.330085Z"
    }
   },
   "outputs": [
    {
     "data": {
      "text/plain": [
       "(385918, 12)"
      ]
     },
     "execution_count": 6,
     "metadata": {},
     "output_type": "execute_result"
    }
   ],
   "source": [
    "GEDEvent.shape"
   ]
  },
  {
   "cell_type": "code",
   "execution_count": 7,
   "metadata": {
    "execution": {
     "iopub.execute_input": "2025-07-18T01:50:07.331141Z",
     "iopub.status.busy": "2025-07-18T01:50:07.331070Z",
     "iopub.status.idle": "2025-07-18T01:50:07.332809Z",
     "shell.execute_reply": "2025-07-18T01:50:07.332647Z"
    },
    "tags": []
   },
   "outputs": [
    {
     "data": {
      "text/plain": [
       "Index(['type_of_violence', 'side_a', 'side_b', 'adm_1', 'latitude',\n",
       "       'longitude', 'country', 'region', 'date_start', 'date_end',\n",
       "       'deaths_civilians', 'best'],\n",
       "      dtype='object')"
      ]
     },
     "execution_count": 7,
     "metadata": {},
     "output_type": "execute_result"
    }
   ],
   "source": [
    "GEDEvent.columns"
   ]
  },
  {
   "cell_type": "markdown",
   "metadata": {},
   "source": [
    "\n",
    "### Detalles de las columnas del dataset\n",
    "\n",
    "### Fecha de inicio y fin\n",
    "* date_start\n",
    "* date_end                       \n",
    "\n",
    "### Coordenadas geográficas    \n",
    "* latitude\n",
    "* longitude\n",
    "\n",
    "### Muertes del evento\n",
    "* best:                                     La mejor estimación (más probable) del total \n",
    "                                            de muertes resultantes de un evento.\n",
    "* deaths_civilians\n",
    "\n",
    "### Continente, país y subdivisión     \n",
    "* region:                                   Africa, Americas, Asia, Europe, Middle East\n",
    "* country\n",
    "* adm_1:                                    \"Provincia\" donde ocurrió el evento\n",
    "\n",
    "### Tipo de violencia y actores\n",
    "* type_of_violence:                         1 - conflicto estatal\n",
    "                                            2 - conflicto no estatal\n",
    "                                            3 - violencia unilateral\n",
    "* side_a\n",
    "* side_b\n"
   ]
  },
  {
   "cell_type": "code",
   "execution_count": 8,
   "metadata": {
    "execution": {
     "iopub.execute_input": "2025-07-18T01:50:07.333575Z",
     "iopub.status.busy": "2025-07-18T01:50:07.333508Z",
     "iopub.status.idle": "2025-07-18T01:50:07.350404Z",
     "shell.execute_reply": "2025-07-18T01:50:07.350177Z"
    },
    "tags": []
   },
   "outputs": [],
   "source": [
    "# Reordeno las columnas para poder identificarlas y analizarlas más cómodamente \n",
    "nuevo_orden = ['date_start', 'date_end',                           # Fecha de inicio y fin\n",
    "               'latitude', 'longitude',                            # Coordenadas geográficas    \n",
    "               'best', 'deaths_civilians',                         # Muertes del evento\n",
    "               'region', 'country', 'adm_1',                       # Continente, país y subdivisión\n",
    "               'type_of_violence', 'side_a', 'side_b',             # Tipo de violencia y actores\n",
    "]\n",
    "GEDEvent = GEDEvent[nuevo_orden]"
   ]
  },
  {
   "cell_type": "markdown",
   "metadata": {},
   "source": [
    "### Vista general del dataset"
   ]
  },
  {
   "cell_type": "code",
   "execution_count": 9,
   "metadata": {
    "execution": {
     "iopub.execute_input": "2025-07-18T01:50:07.351349Z",
     "iopub.status.busy": "2025-07-18T01:50:07.351264Z",
     "iopub.status.idle": "2025-07-18T01:50:07.356973Z",
     "shell.execute_reply": "2025-07-18T01:50:07.356801Z"
    },
    "tags": []
   },
   "outputs": [
    {
     "data": {
      "text/html": [
       "<div>\n",
       "<style scoped>\n",
       "    .dataframe tbody tr th:only-of-type {\n",
       "        vertical-align: middle;\n",
       "    }\n",
       "\n",
       "    .dataframe tbody tr th {\n",
       "        vertical-align: top;\n",
       "    }\n",
       "\n",
       "    .dataframe thead th {\n",
       "        text-align: right;\n",
       "    }\n",
       "</style>\n",
       "<table border=\"1\" class=\"dataframe\">\n",
       "  <thead>\n",
       "    <tr style=\"text-align: right;\">\n",
       "      <th></th>\n",
       "      <th>date_start</th>\n",
       "      <th>date_end</th>\n",
       "      <th>latitude</th>\n",
       "      <th>longitude</th>\n",
       "      <th>best</th>\n",
       "      <th>deaths_civilians</th>\n",
       "      <th>region</th>\n",
       "      <th>country</th>\n",
       "      <th>adm_1</th>\n",
       "      <th>type_of_violence</th>\n",
       "      <th>side_a</th>\n",
       "      <th>side_b</th>\n",
       "    </tr>\n",
       "  </thead>\n",
       "  <tbody>\n",
       "    <tr>\n",
       "      <th>0</th>\n",
       "      <td>2017-07-31 00:00:00.000</td>\n",
       "      <td>2017-07-31 00:00:00.000</td>\n",
       "      <td>34.531094</td>\n",
       "      <td>69.162796</td>\n",
       "      <td>6</td>\n",
       "      <td>0</td>\n",
       "      <td>Asia</td>\n",
       "      <td>Afghanistan</td>\n",
       "      <td>Kabul province</td>\n",
       "      <td>1</td>\n",
       "      <td>Government of Iraq</td>\n",
       "      <td>IS</td>\n",
       "    </tr>\n",
       "    <tr>\n",
       "      <th>1</th>\n",
       "      <td>2021-08-26 00:00:00.000</td>\n",
       "      <td>2021-08-26 00:00:00.000</td>\n",
       "      <td>34.564444</td>\n",
       "      <td>69.217222</td>\n",
       "      <td>183</td>\n",
       "      <td>141</td>\n",
       "      <td>Asia</td>\n",
       "      <td>Afghanistan</td>\n",
       "      <td>Kabul province</td>\n",
       "      <td>1</td>\n",
       "      <td>Government of Iraq</td>\n",
       "      <td>IS</td>\n",
       "    </tr>\n",
       "    <tr>\n",
       "      <th>2</th>\n",
       "      <td>2021-08-28 00:00:00.000</td>\n",
       "      <td>2021-08-28 00:00:00.000</td>\n",
       "      <td>34.428844</td>\n",
       "      <td>70.455750</td>\n",
       "      <td>2</td>\n",
       "      <td>0</td>\n",
       "      <td>Asia</td>\n",
       "      <td>Afghanistan</td>\n",
       "      <td>Nangarhar province</td>\n",
       "      <td>1</td>\n",
       "      <td>Government of Iraq</td>\n",
       "      <td>IS</td>\n",
       "    </tr>\n",
       "    <tr>\n",
       "      <th>3</th>\n",
       "      <td>2021-08-29 00:00:00.000</td>\n",
       "      <td>2021-08-29 00:00:00.000</td>\n",
       "      <td>34.531094</td>\n",
       "      <td>69.162796</td>\n",
       "      <td>10</td>\n",
       "      <td>10</td>\n",
       "      <td>Asia</td>\n",
       "      <td>Afghanistan</td>\n",
       "      <td>Kabul province</td>\n",
       "      <td>1</td>\n",
       "      <td>Government of Iraq</td>\n",
       "      <td>IS</td>\n",
       "    </tr>\n",
       "    <tr>\n",
       "      <th>4</th>\n",
       "      <td>1989-01-07 00:00:00.000</td>\n",
       "      <td>1989-01-13 00:00:00.000</td>\n",
       "      <td>34.333330</td>\n",
       "      <td>70.416670</td>\n",
       "      <td>6</td>\n",
       "      <td>0</td>\n",
       "      <td>Asia</td>\n",
       "      <td>Afghanistan</td>\n",
       "      <td>Nangarhar province</td>\n",
       "      <td>1</td>\n",
       "      <td>Government of Afghanistan</td>\n",
       "      <td>Jam'iyyat-i Islami-yi Afghanistan</td>\n",
       "    </tr>\n",
       "    <tr>\n",
       "      <th>5</th>\n",
       "      <td>1989-01-15 00:00:00.000</td>\n",
       "      <td>1989-01-18 00:00:00.000</td>\n",
       "      <td>36.750000</td>\n",
       "      <td>68.750000</td>\n",
       "      <td>4</td>\n",
       "      <td>0</td>\n",
       "      <td>Asia</td>\n",
       "      <td>Afghanistan</td>\n",
       "      <td>Kunduz province</td>\n",
       "      <td>1</td>\n",
       "      <td>Government of Afghanistan</td>\n",
       "      <td>Jam'iyyat-i Islami-yi Afghanistan</td>\n",
       "    </tr>\n",
       "    <tr>\n",
       "      <th>6</th>\n",
       "      <td>1989-01-23 00:00:00.000</td>\n",
       "      <td>1989-01-24 00:00:00.000</td>\n",
       "      <td>35.315833</td>\n",
       "      <td>69.038889</td>\n",
       "      <td>600</td>\n",
       "      <td>0</td>\n",
       "      <td>Asia</td>\n",
       "      <td>Afghanistan</td>\n",
       "      <td>Baghlan province</td>\n",
       "      <td>1</td>\n",
       "      <td>Government of Afghanistan</td>\n",
       "      <td>Jam'iyyat-i Islami-yi Afghanistan</td>\n",
       "    </tr>\n",
       "    <tr>\n",
       "      <th>7</th>\n",
       "      <td>1989-01-30 00:00:00.000</td>\n",
       "      <td>1989-02-05 00:00:00.000</td>\n",
       "      <td>34.531094</td>\n",
       "      <td>69.162796</td>\n",
       "      <td>2</td>\n",
       "      <td>0</td>\n",
       "      <td>Asia</td>\n",
       "      <td>Afghanistan</td>\n",
       "      <td>Kabul province</td>\n",
       "      <td>1</td>\n",
       "      <td>Government of Afghanistan</td>\n",
       "      <td>Jam'iyyat-i Islami-yi Afghanistan</td>\n",
       "    </tr>\n",
       "    <tr>\n",
       "      <th>8</th>\n",
       "      <td>1989-01-31 00:00:00.000</td>\n",
       "      <td>1989-01-31 00:00:00.000</td>\n",
       "      <td>35.316030</td>\n",
       "      <td>69.038710</td>\n",
       "      <td>70</td>\n",
       "      <td>0</td>\n",
       "      <td>Asia</td>\n",
       "      <td>Afghanistan</td>\n",
       "      <td>Baghlan province</td>\n",
       "      <td>1</td>\n",
       "      <td>Government of Afghanistan</td>\n",
       "      <td>Jam'iyyat-i Islami-yi Afghanistan</td>\n",
       "    </tr>\n",
       "    <tr>\n",
       "      <th>9</th>\n",
       "      <td>1989-02-04 00:00:00.000</td>\n",
       "      <td>1989-02-04 00:00:00.000</td>\n",
       "      <td>34.500000</td>\n",
       "      <td>62.000000</td>\n",
       "      <td>20</td>\n",
       "      <td>0</td>\n",
       "      <td>Asia</td>\n",
       "      <td>Afghanistan</td>\n",
       "      <td>Hirat province</td>\n",
       "      <td>1</td>\n",
       "      <td>Government of Afghanistan</td>\n",
       "      <td>Jam'iyyat-i Islami-yi Afghanistan</td>\n",
       "    </tr>\n",
       "  </tbody>\n",
       "</table>\n",
       "</div>"
      ],
      "text/plain": [
       "                date_start                 date_end   latitude  longitude  \\\n",
       "0  2017-07-31 00:00:00.000  2017-07-31 00:00:00.000  34.531094  69.162796   \n",
       "1  2021-08-26 00:00:00.000  2021-08-26 00:00:00.000  34.564444  69.217222   \n",
       "2  2021-08-28 00:00:00.000  2021-08-28 00:00:00.000  34.428844  70.455750   \n",
       "3  2021-08-29 00:00:00.000  2021-08-29 00:00:00.000  34.531094  69.162796   \n",
       "4  1989-01-07 00:00:00.000  1989-01-13 00:00:00.000  34.333330  70.416670   \n",
       "5  1989-01-15 00:00:00.000  1989-01-18 00:00:00.000  36.750000  68.750000   \n",
       "6  1989-01-23 00:00:00.000  1989-01-24 00:00:00.000  35.315833  69.038889   \n",
       "7  1989-01-30 00:00:00.000  1989-02-05 00:00:00.000  34.531094  69.162796   \n",
       "8  1989-01-31 00:00:00.000  1989-01-31 00:00:00.000  35.316030  69.038710   \n",
       "9  1989-02-04 00:00:00.000  1989-02-04 00:00:00.000  34.500000  62.000000   \n",
       "\n",
       "   best  deaths_civilians region      country               adm_1  \\\n",
       "0     6                 0   Asia  Afghanistan      Kabul province   \n",
       "1   183               141   Asia  Afghanistan      Kabul province   \n",
       "2     2                 0   Asia  Afghanistan  Nangarhar province   \n",
       "3    10                10   Asia  Afghanistan      Kabul province   \n",
       "4     6                 0   Asia  Afghanistan  Nangarhar province   \n",
       "5     4                 0   Asia  Afghanistan     Kunduz province   \n",
       "6   600                 0   Asia  Afghanistan    Baghlan province   \n",
       "7     2                 0   Asia  Afghanistan      Kabul province   \n",
       "8    70                 0   Asia  Afghanistan    Baghlan province   \n",
       "9    20                 0   Asia  Afghanistan      Hirat province   \n",
       "\n",
       "   type_of_violence                     side_a  \\\n",
       "0                 1         Government of Iraq   \n",
       "1                 1         Government of Iraq   \n",
       "2                 1         Government of Iraq   \n",
       "3                 1         Government of Iraq   \n",
       "4                 1  Government of Afghanistan   \n",
       "5                 1  Government of Afghanistan   \n",
       "6                 1  Government of Afghanistan   \n",
       "7                 1  Government of Afghanistan   \n",
       "8                 1  Government of Afghanistan   \n",
       "9                 1  Government of Afghanistan   \n",
       "\n",
       "                              side_b  \n",
       "0                                 IS  \n",
       "1                                 IS  \n",
       "2                                 IS  \n",
       "3                                 IS  \n",
       "4  Jam'iyyat-i Islami-yi Afghanistan  \n",
       "5  Jam'iyyat-i Islami-yi Afghanistan  \n",
       "6  Jam'iyyat-i Islami-yi Afghanistan  \n",
       "7  Jam'iyyat-i Islami-yi Afghanistan  \n",
       "8  Jam'iyyat-i Islami-yi Afghanistan  \n",
       "9  Jam'iyyat-i Islami-yi Afghanistan  "
      ]
     },
     "execution_count": 9,
     "metadata": {},
     "output_type": "execute_result"
    }
   ],
   "source": [
    "GEDEvent.head(10)"
   ]
  },
  {
   "cell_type": "code",
   "execution_count": 10,
   "metadata": {
    "execution": {
     "iopub.execute_input": "2025-07-18T01:50:07.357741Z",
     "iopub.status.busy": "2025-07-18T01:50:07.357668Z",
     "iopub.status.idle": "2025-07-18T01:50:07.359916Z",
     "shell.execute_reply": "2025-07-18T01:50:07.359704Z"
    }
   },
   "outputs": [
    {
     "data": {
      "text/plain": [
       "date_start          2017-07-31 00:00:00.000\n",
       "date_end            2017-07-31 00:00:00.000\n",
       "latitude                          34.531094\n",
       "longitude                         69.162796\n",
       "best                                      6\n",
       "deaths_civilians                          0\n",
       "region                                 Asia\n",
       "country                         Afghanistan\n",
       "adm_1                        Kabul province\n",
       "type_of_violence                          1\n",
       "side_a                   Government of Iraq\n",
       "side_b                                   IS\n",
       "Name: 0, dtype: object"
      ]
     },
     "execution_count": 10,
     "metadata": {},
     "output_type": "execute_result"
    }
   ],
   "source": [
    "GEDEvent.iloc[0]"
   ]
  },
  {
   "cell_type": "code",
   "execution_count": 11,
   "metadata": {
    "execution": {
     "iopub.execute_input": "2025-07-18T01:50:07.360899Z",
     "iopub.status.busy": "2025-07-18T01:50:07.360828Z",
     "iopub.status.idle": "2025-07-18T01:50:07.414382Z",
     "shell.execute_reply": "2025-07-18T01:50:07.413973Z"
    }
   },
   "outputs": [
    {
     "name": "stdout",
     "output_type": "stream",
     "text": [
      "<class 'pandas.core.frame.DataFrame'>\n",
      "RangeIndex: 385918 entries, 0 to 385917\n",
      "Data columns (total 12 columns):\n",
      " #   Column            Non-Null Count   Dtype  \n",
      "---  ------            --------------   -----  \n",
      " 0   date_start        385918 non-null  object \n",
      " 1   date_end          385918 non-null  object \n",
      " 2   latitude          385918 non-null  float64\n",
      " 3   longitude         385918 non-null  float64\n",
      " 4   best              385918 non-null  int64  \n",
      " 5   deaths_civilians  385918 non-null  int64  \n",
      " 6   region            385918 non-null  object \n",
      " 7   country           385918 non-null  object \n",
      " 8   adm_1             366371 non-null  object \n",
      " 9   type_of_violence  385918 non-null  int64  \n",
      " 10  side_a            385918 non-null  object \n",
      " 11  side_b            385918 non-null  object \n",
      "dtypes: float64(2), int64(3), object(7)\n",
      "memory usage: 35.3+ MB\n"
     ]
    }
   ],
   "source": [
    "GEDEvent.info()"
   ]
  },
  {
   "cell_type": "code",
   "execution_count": 12,
   "metadata": {
    "execution": {
     "iopub.execute_input": "2025-07-18T01:50:07.415466Z",
     "iopub.status.busy": "2025-07-18T01:50:07.415353Z",
     "iopub.status.idle": "2025-07-18T01:50:07.419012Z",
     "shell.execute_reply": "2025-07-18T01:50:07.418848Z"
    }
   },
   "outputs": [
    {
     "data": {
      "text/html": [
       "<div>\n",
       "<style scoped>\n",
       "    .dataframe tbody tr th:only-of-type {\n",
       "        vertical-align: middle;\n",
       "    }\n",
       "\n",
       "    .dataframe tbody tr th {\n",
       "        vertical-align: top;\n",
       "    }\n",
       "\n",
       "    .dataframe thead th {\n",
       "        text-align: right;\n",
       "    }\n",
       "</style>\n",
       "<table border=\"1\" class=\"dataframe\">\n",
       "  <thead>\n",
       "    <tr style=\"text-align: right;\">\n",
       "      <th></th>\n",
       "      <th>date_start</th>\n",
       "      <th>date_end</th>\n",
       "      <th>latitude</th>\n",
       "      <th>longitude</th>\n",
       "      <th>best</th>\n",
       "      <th>deaths_civilians</th>\n",
       "      <th>region</th>\n",
       "      <th>country</th>\n",
       "      <th>adm_1</th>\n",
       "      <th>type_of_violence</th>\n",
       "      <th>side_a</th>\n",
       "      <th>side_b</th>\n",
       "    </tr>\n",
       "  </thead>\n",
       "  <tbody>\n",
       "  </tbody>\n",
       "</table>\n",
       "</div>"
      ],
      "text/plain": [
       "Empty DataFrame\n",
       "Columns: [date_start, date_end, latitude, longitude, best, deaths_civilians, region, country, adm_1, type_of_violence, side_a, side_b]\n",
       "Index: []"
      ]
     },
     "execution_count": 12,
     "metadata": {},
     "output_type": "execute_result"
    }
   ],
   "source": [
    "# Me fijo si hay algún valor raro en posición\n",
    "GEDEvent[(GEDEvent['latitude'] < -90) | (GEDEvent['latitude'] > 90)]"
   ]
  },
  {
   "cell_type": "markdown",
   "metadata": {},
   "source": [
    "### Ajustamos los tipos de datos"
   ]
  },
  {
   "cell_type": "code",
   "execution_count": 13,
   "metadata": {
    "execution": {
     "iopub.execute_input": "2025-07-18T01:50:07.420034Z",
     "iopub.status.busy": "2025-07-18T01:50:07.419887Z",
     "iopub.status.idle": "2025-07-18T01:50:07.532478Z",
     "shell.execute_reply": "2025-07-18T01:50:07.532152Z"
    }
   },
   "outputs": [],
   "source": [
    "\n",
    "         \n",
    "# Numéricas temporales         \n",
    "GEDEvent['date_start'] = pd.to_datetime(GEDEvent['date_start'])\n",
    "GEDEvent['date_end'] = pd.to_datetime(GEDEvent['date_end'])\n",
    "\n",
    "# Categóricas\n",
    "GEDEvent['region'] = GEDEvent['region'].astype('category')\n",
    "GEDEvent['country'] = GEDEvent['country'].astype('category')\n",
    "GEDEvent['adm_1'] = GEDEvent['adm_1'].astype('category')\n",
    "GEDEvent['type_of_violence'] = GEDEvent['type_of_violence'].astype('category')\n",
    "GEDEvent['side_a'] = GEDEvent['side_a'].astype('category')\n",
    "GEDEvent['side_b'] = GEDEvent['side_b'].astype('category')\n",
    "\n",
    "\n"
   ]
  },
  {
   "cell_type": "code",
   "execution_count": 14,
   "metadata": {
    "execution": {
     "iopub.execute_input": "2025-07-18T01:50:07.533814Z",
     "iopub.status.busy": "2025-07-18T01:50:07.533677Z",
     "iopub.status.idle": "2025-07-18T01:50:07.543793Z",
     "shell.execute_reply": "2025-07-18T01:50:07.543252Z"
    }
   },
   "outputs": [
    {
     "name": "stdout",
     "output_type": "stream",
     "text": [
      "<class 'pandas.core.frame.DataFrame'>\n",
      "RangeIndex: 385918 entries, 0 to 385917\n",
      "Data columns (total 12 columns):\n",
      " #   Column            Non-Null Count   Dtype         \n",
      "---  ------            --------------   -----         \n",
      " 0   date_start        385918 non-null  datetime64[ns]\n",
      " 1   date_end          385918 non-null  datetime64[ns]\n",
      " 2   latitude          385918 non-null  float64       \n",
      " 3   longitude         385918 non-null  float64       \n",
      " 4   best              385918 non-null  int64         \n",
      " 5   deaths_civilians  385918 non-null  int64         \n",
      " 6   region            385918 non-null  category      \n",
      " 7   country           385918 non-null  category      \n",
      " 8   adm_1             366371 non-null  category      \n",
      " 9   type_of_violence  385918 non-null  category      \n",
      " 10  side_a            385918 non-null  category      \n",
      " 11  side_b            385918 non-null  category      \n",
      "dtypes: category(6), datetime64[ns](2), float64(2), int64(2)\n",
      "memory usage: 21.1 MB\n"
     ]
    }
   ],
   "source": [
    "GEDEvent.info()"
   ]
  },
  {
   "cell_type": "markdown",
   "metadata": {},
   "source": [
    "---"
   ]
  },
  {
   "cell_type": "markdown",
   "metadata": {},
   "source": [
    "---\n",
    "### Variables categóricas: exploración\n",
    "---"
   ]
  },
  {
   "cell_type": "code",
   "execution_count": 15,
   "metadata": {
    "execution": {
     "iopub.execute_input": "2025-07-18T01:50:07.545323Z",
     "iopub.status.busy": "2025-07-18T01:50:07.545172Z",
     "iopub.status.idle": "2025-07-18T01:50:07.549455Z",
     "shell.execute_reply": "2025-07-18T01:50:07.549220Z"
    }
   },
   "outputs": [
    {
     "data": {
      "text/html": [
       "<div>\n",
       "<style scoped>\n",
       "    .dataframe tbody tr th:only-of-type {\n",
       "        vertical-align: middle;\n",
       "    }\n",
       "\n",
       "    .dataframe tbody tr th {\n",
       "        vertical-align: top;\n",
       "    }\n",
       "\n",
       "    .dataframe thead th {\n",
       "        text-align: right;\n",
       "    }\n",
       "</style>\n",
       "<table border=\"1\" class=\"dataframe\">\n",
       "  <thead>\n",
       "    <tr style=\"text-align: right;\">\n",
       "      <th></th>\n",
       "      <th>date_start</th>\n",
       "      <th>date_end</th>\n",
       "      <th>latitude</th>\n",
       "      <th>longitude</th>\n",
       "      <th>best</th>\n",
       "      <th>deaths_civilians</th>\n",
       "      <th>region</th>\n",
       "      <th>country</th>\n",
       "      <th>adm_1</th>\n",
       "      <th>type_of_violence</th>\n",
       "      <th>side_a</th>\n",
       "      <th>side_b</th>\n",
       "    </tr>\n",
       "  </thead>\n",
       "  <tbody>\n",
       "  </tbody>\n",
       "</table>\n",
       "</div>"
      ],
      "text/plain": [
       "Empty DataFrame\n",
       "Columns: [date_start, date_end, latitude, longitude, best, deaths_civilians, region, country, adm_1, type_of_violence, side_a, side_b]\n",
       "Index: []"
      ]
     },
     "execution_count": 15,
     "metadata": {},
     "output_type": "execute_result"
    }
   ],
   "source": [
    "GEDEvent[GEDEvent['best'] == '0']"
   ]
  },
  {
   "cell_type": "code",
   "execution_count": null,
   "metadata": {},
   "outputs": [],
   "source": []
  },
  {
   "cell_type": "code",
   "execution_count": 16,
   "metadata": {
    "execution": {
     "iopub.execute_input": "2025-07-18T01:50:07.550530Z",
     "iopub.status.busy": "2025-07-18T01:50:07.550425Z",
     "iopub.status.idle": "2025-07-18T01:50:07.566726Z",
     "shell.execute_reply": "2025-07-18T01:50:07.566520Z"
    }
   },
   "outputs": [
    {
     "data": {
      "text/html": [
       "<div>\n",
       "<style scoped>\n",
       "    .dataframe tbody tr th:only-of-type {\n",
       "        vertical-align: middle;\n",
       "    }\n",
       "\n",
       "    .dataframe tbody tr th {\n",
       "        vertical-align: top;\n",
       "    }\n",
       "\n",
       "    .dataframe thead th {\n",
       "        text-align: right;\n",
       "    }\n",
       "</style>\n",
       "<table border=\"1\" class=\"dataframe\">\n",
       "  <thead>\n",
       "    <tr style=\"text-align: right;\">\n",
       "      <th></th>\n",
       "      <th>region</th>\n",
       "      <th>country</th>\n",
       "      <th>adm_1</th>\n",
       "      <th>type_of_violence</th>\n",
       "      <th>side_a</th>\n",
       "      <th>side_b</th>\n",
       "    </tr>\n",
       "  </thead>\n",
       "  <tbody>\n",
       "    <tr>\n",
       "      <th>count</th>\n",
       "      <td>385918</td>\n",
       "      <td>385918</td>\n",
       "      <td>366371</td>\n",
       "      <td>385918</td>\n",
       "      <td>385918</td>\n",
       "      <td>385918</td>\n",
       "    </tr>\n",
       "    <tr>\n",
       "      <th>unique</th>\n",
       "      <td>5</td>\n",
       "      <td>124</td>\n",
       "      <td>1682</td>\n",
       "      <td>3</td>\n",
       "      <td>966</td>\n",
       "      <td>959</td>\n",
       "    </tr>\n",
       "    <tr>\n",
       "      <th>top</th>\n",
       "      <td>Middle East</td>\n",
       "      <td>Syria</td>\n",
       "      <td>Rif Dimashq governorate</td>\n",
       "      <td>1</td>\n",
       "      <td>Government of Syria</td>\n",
       "      <td>Syrian insurgents</td>\n",
       "    </tr>\n",
       "    <tr>\n",
       "      <th>freq</th>\n",
       "      <td>122215</td>\n",
       "      <td>87861</td>\n",
       "      <td>17487</td>\n",
       "      <td>271331</td>\n",
       "      <td>75181</td>\n",
       "      <td>66186</td>\n",
       "    </tr>\n",
       "  </tbody>\n",
       "</table>\n",
       "</div>"
      ],
      "text/plain": [
       "             region country                    adm_1  type_of_violence  \\\n",
       "count        385918  385918                   366371            385918   \n",
       "unique            5     124                     1682                 3   \n",
       "top     Middle East   Syria  Rif Dimashq governorate                 1   \n",
       "freq         122215   87861                    17487            271331   \n",
       "\n",
       "                     side_a             side_b  \n",
       "count                385918             385918  \n",
       "unique                  966                959  \n",
       "top     Government of Syria  Syrian insurgents  \n",
       "freq                  75181              66186  "
      ]
     },
     "execution_count": 16,
     "metadata": {},
     "output_type": "execute_result"
    }
   ],
   "source": [
    "GEDEvent.describe(include='category')"
   ]
  },
  {
   "cell_type": "markdown",
   "metadata": {},
   "source": [
    "#### Corredor y equipo"
   ]
  },
  {
   "cell_type": "code",
   "execution_count": 28,
   "metadata": {
    "execution": {
     "iopub.execute_input": "2025-07-18T01:50:07.567700Z",
     "iopub.status.busy": "2025-07-18T01:50:07.567584Z",
     "iopub.status.idle": "2025-07-18T01:50:07.571062Z",
     "shell.execute_reply": "2025-07-18T01:50:07.570751Z"
    },
    "tags": []
   },
   "outputs": [
    {
     "data": {
      "text/plain": [
       "['Government of Iraq', 'Government of Afghanistan', 'Government of India', 'Government of Tajikistan', 'Government of Pakistan', ..., 'Al-Maraziq', 'Forces of the Presidential Leadership Council', 'Abu al-Abbas Brigades', 'Giants Brigade, STC', 'Government of United Kingdom, Government of U...]\n",
       "Length: 966\n",
       "Categories (966, object): ['16th Division, Islamic Front, Jabhat Fateh al..., '1920 Revolution Brigades', '23rd Division, Ahrar al-Sham, Jaysh al Nasr, ..., '23rd Division, Jaysh al Nasr, Jaysh al-Nukhba..., ..., 'al-Qaida', 'al-Tawhid Brigade', 'anti-Balaka', 'anti-Balaka, FPRC-AK']"
      ]
     },
     "execution_count": 28,
     "metadata": {},
     "output_type": "execute_result"
    }
   ],
   "source": [
    "# Top 10 Actor A\n",
    "GEDEvent['side_a'].unique()"
   ]
  },
  {
   "cell_type": "code",
   "execution_count": 31,
   "metadata": {
    "execution": {
     "iopub.execute_input": "2025-07-18T01:50:07.572392Z",
     "iopub.status.busy": "2025-07-18T01:50:07.572215Z",
     "iopub.status.idle": "2025-07-18T01:50:07.576947Z",
     "shell.execute_reply": "2025-07-18T01:50:07.576741Z"
    }
   },
   "outputs": [
    {
     "name": "stdout",
     "output_type": "stream",
     "text": [
      "side_a\n",
      "Government of Syria                    75181\n",
      "Government of Afghanistan              40223\n",
      "Government of Russia (Soviet Union)    32460\n",
      "Government of India                    13011\n",
      "IS                                     12257\n",
      "Government of Israel                    9524\n",
      "Jalisco Cartel New Generation           9146\n",
      "Government of Myanmar (Burma)           8220\n",
      "Government of Turkey                    8014\n",
      "Government of Bosnia-Herzegovina        7908\n",
      "Name: count, dtype: int64\n",
      "side_b\n",
      "Syrian insurgents                         66186\n",
      "Civilians                                 59605\n",
      "Taleban                                   35935\n",
      "Government of Ukraine                     28499\n",
      "IS                                        21871\n",
      "Sinaloa Cartel                             9816\n",
      "PKK                                        7656\n",
      "Kashmir insurgents                         7237\n",
      "Hamas                                      5863\n",
      "Serbian Republic of Bosnia-Herzegovina     5702\n",
      "Name: count, dtype: int64\n"
     ]
    }
   ],
   "source": [
    "print(GEDEvent['side_a'].value_counts().head(10))\n",
    "\n",
    "print(GEDEvent['side_b'].value_counts().head(10))"
   ]
  },
  {
   "cell_type": "code",
   "execution_count": 25,
   "metadata": {
    "execution": {
     "iopub.execute_input": "2025-07-18T01:50:07.577702Z",
     "iopub.status.busy": "2025-07-18T01:50:07.577624Z",
     "iopub.status.idle": "2025-07-18T01:50:10.178290Z",
     "shell.execute_reply": "2025-07-18T01:50:10.177935Z"
    }
   },
   "outputs": [
    {
     "data": {
      "image/png": "[encoded data removed]",
      "text/plain": [
       "<Figure size 1000x600 with 1 Axes>"
      ]
     },
     "metadata": {},
     "output_type": "display_data"
    },
    {
     "data": {
      "image/png": "[encoded data removed]",
      "text/plain": [
       "<Figure size 1000x600 with 1 Axes>"
      ]
     },
     "metadata": {},
     "output_type": "display_data"
    }
   ],
   "source": [
    "top_10a = GEDEvent['side_a'].value_counts().head(10)\n",
    "top_10a.plot(kind='bar', figsize=(10, 6), color='skyblue')\n",
    "\n",
    "plt.tight_layout()\n",
    "plt.show()\n",
    "\n",
    "top_10b = GEDEvent['side_b'].value_counts().head(10)\n",
    "top_10b.plot(kind='bar', figsize=(10, 6), color='salmon')\n",
    "\n",
    "plt.tight_layout()\n",
    "plt.show()\n"
   ]
  }
 ],
 "metadata": {
  "kernelspec": {
   "display_name": "add-env",
   "language": "python",
   "name": "python3"
  },
  "language_info": {
   "codemirror_mode": {
    "name": "ipython",
    "version": 3
   },
   "file_extension": ".py",
   "mimetype": "text/x-python",
   "name": "python",
   "nbconvert_exporter": "python",
   "pygments_lexer": "ipython3",
   "version": "3.11.13"
  }
 },
 "nbformat": 4,
 "nbformat_minor": 4
}
