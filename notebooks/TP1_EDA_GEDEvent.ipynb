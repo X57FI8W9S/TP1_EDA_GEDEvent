{
 "cells": [
  {
   "cell_type": "markdown",
   "metadata": {},
   "source": [
    "## Análisis de datos - Clase 3"
   ]
  },
  {
   "cell_type": "markdown",
   "metadata": {},
   "source": [
    "# Taller práctico - análisis de un dataset\n"
   ]
  },
  {
   "cell_type": "markdown",
   "metadata": {},
   "source": [
    "En esta clase vamos a analizar en forma completa un dataset con datos de Fórmula 1 de la temporada 2024 (los datos fueron extraídos con la biblioteca Fastf1). El dataset contiene información sobre las carreras, los pilotos, los tiempos y los resultados de cada evento.\n"
   ]
  },
  {
   "cell_type": "code",
   "execution_count": 1,
   "metadata": {
    "tags": []
   },
   "outputs": [],
   "source": [
    "import matplotlib.pyplot as plt\n",
    "import pandas as pd\n",
    "import numpy as np\n",
    "import seaborn as sns\n",
    "import missingno as msno\n",
    "from scipy import stats as st\n",
    "from scipy.stats import describe"
   ]
  },
  {
   "cell_type": "code",
   "execution_count": 2,
   "metadata": {
    "tags": []
   },
   "outputs": [
    {
     "name": "stderr",
     "output_type": "stream",
     "text": [
      "/tmp/ipykernel_6330/2568653710.py:2: DtypeWarning: Columns (47) have mixed types. Specify dtype option on import or set low_memory=False.\n",
      "  raw_GEDEvent = pd.read_csv('../datasets/GEDEvent_v25_1.csv')\n"
     ]
    }
   ],
   "source": [
    "# Dataset de carreras del 2024\n",
    "raw_GEDEvent = pd.read_csv('../datasets/GEDEvent_v25_1.csv')"
   ]
  },
  {
   "cell_type": "markdown",
   "metadata": {},
   "source": [
    "---\n",
    "## EDA (Exploratory Data Analysis)\n",
    "---"
   ]
  },
  {
   "cell_type": "markdown",
   "metadata": {},
   "source": [
    "### Columnas y tipos de datos"
   ]
  },
  {
   "cell_type": "code",
   "execution_count": 3,
   "metadata": {
    "tags": []
   },
   "outputs": [
    {
     "data": {
      "text/plain": [
       "Index(['id', 'relid', 'year', 'active_year', 'code_status', 'type_of_violence',\n",
       "       'conflict_dset_id', 'conflict_new_id', 'conflict_name', 'dyad_dset_id',\n",
       "       'dyad_new_id', 'dyad_name', 'side_a_dset_id', 'side_a_new_id', 'side_a',\n",
       "       'side_b_dset_id', 'side_b_new_id', 'side_b', 'number_of_sources',\n",
       "       'source_article', 'source_office', 'source_date', 'source_headline',\n",
       "       'source_original', 'where_prec', 'where_coordinates',\n",
       "       'where_description', 'adm_1', 'adm_2', 'latitude', 'longitude',\n",
       "       'geom_wkt', 'priogrid_gid', 'country', 'country_id', 'region',\n",
       "       'event_clarity', 'date_prec', 'date_start', 'date_end', 'deaths_a',\n",
       "       'deaths_b', 'deaths_civilians', 'deaths_unknown', 'best', 'high', 'low',\n",
       "       'gwnoa', 'gwnob'],\n",
       "      dtype='object')"
      ]
     },
     "execution_count": 3,
     "metadata": {},
     "output_type": "execute_result"
    }
   ],
   "source": [
    "raw_GEDEvent.columns"
   ]
  },
  {
   "cell_type": "code",
   "execution_count": 4,
   "metadata": {},
   "outputs": [],
   "source": [
    "# Armamos un nuevo dataset con menos columnas para el análisis\n",
    "GEDEvent = raw_GEDEvent.drop(columns=['id', 'relid', 'year', 'active_year', 'code_status',\n",
    "       'conflict_dset_id', 'conflict_new_id', 'conflict_name', 'dyad_dset_id',\n",
    "       'dyad_new_id', 'dyad_name', 'side_a_dset_id', 'side_a_new_id', 'number_of_sources',\n",
    "       'source_article', 'source_office', 'source_date', 'source_headline',\n",
    "       'source_original', 'where_prec', 'where_coordinates',\n",
    "       'where_description', 'adm_2',\n",
    "       'side_b_dset_id', 'side_b_new_id','geom_wkt', 'priogrid_gid', 'country_id',\n",
    "       'event_clarity', 'date_prec', 'deaths_a',\n",
    "       'deaths_b', 'deaths_unknown', 'high', 'low',\n",
    "       'gwnoa', 'gwnob'], axis=1)"
   ]
  },
  {
   "cell_type": "code",
   "execution_count": 5,
   "metadata": {},
   "outputs": [
    {
     "data": {
      "text/plain": [
       "(385918, 12)"
      ]
     },
     "execution_count": 5,
     "metadata": {},
     "output_type": "execute_result"
    }
   ],
   "source": [
    "GEDEvent.shape"
   ]
  },
  {
   "cell_type": "code",
   "execution_count": 6,
   "metadata": {
    "tags": []
   },
   "outputs": [
    {
     "data": {
      "text/plain": [
       "Index(['type_of_violence', 'side_a', 'side_b', 'adm_1', 'latitude',\n",
       "       'longitude', 'country', 'region', 'date_start', 'date_end',\n",
       "       'deaths_civilians', 'best'],\n",
       "      dtype='object')"
      ]
     },
     "execution_count": 6,
     "metadata": {},
     "output_type": "execute_result"
    }
   ],
   "source": [
    "GEDEvent.columns"
   ]
  },
  {
   "cell_type": "markdown",
   "metadata": {},
   "source": [
    "\n",
    "### Detalles de las columnas del dataset\n",
    "\n",
    "### Fecha de inicio y fin\n",
    "* date_start\n",
    "* date_end                       \n",
    "\n",
    "### Coordenadas geográficas    \n",
    "* latitude\n",
    "* longitude\n",
    "\n",
    "### Muertes del evento\n",
    "* best:                                     La mejor estimación (más probable) del total \n",
    "                                            de muertes resultantes de un evento.\n",
    "* deaths_civilians\n",
    "\n",
    "### Continente, país y subdivisión     \n",
    "* region:                                   Africa, Americas, Asia, Europe, Middle East\n",
    "* country\n",
    "* adm_1:                                    \"Provincia\" donde ocurrió el evento\n",
    "\n",
    "### Tipo de violencia y actores\n",
    "* type_of_violence:                         1 - conflicto estatal\n",
    "                                            2 - conflicto no estatal\n",
    "                                            3 - violencia unilateral\n",
    "* side_a\n",
    "* side_b\n"
   ]
  },
  {
   "cell_type": "code",
   "execution_count": 7,
   "metadata": {
    "tags": []
   },
   "outputs": [],
   "source": [
    "# Reordeno las columnas para poder identificarlas y analizarlas más cómodamente \n",
    "nuevo_orden = ['date_start', 'date_end',                           # Fecha de inicio y fin\n",
    "               'latitude', 'longitude',                            # Coordenadas geográficas    \n",
    "               'best', 'deaths_civilians',                         # Muertes del evento\n",
    "               'region', 'country', 'adm_1',                       # Continente, país y subdivisión\n",
    "               'type_of_violence', 'side_a', 'side_b',             # Tipo de violencia y actores\n",
    "]\n",
    "GEDEvent = GEDEvent[nuevo_orden]"
   ]
  },
  {
   "cell_type": "markdown",
   "metadata": {},
   "source": [
    "### Vista general del dataset"
   ]
  },
  {
   "cell_type": "code",
   "execution_count": 8,
   "metadata": {
    "tags": []
   },
   "outputs": [
    {
     "data": {
      "text/html": [
       "<div>\n",
       "<style scoped>\n",
       "    .dataframe tbody tr th:only-of-type {\n",
       "        vertical-align: middle;\n",
       "    }\n",
       "\n",
       "    .dataframe tbody tr th {\n",
       "        vertical-align: top;\n",
       "    }\n",
       "\n",
       "    .dataframe thead th {\n",
       "        text-align: right;\n",
       "    }\n",
       "</style>\n",
       "<table border=\"1\" class=\"dataframe\">\n",
       "  <thead>\n",
       "    <tr style=\"text-align: right;\">\n",
       "      <th></th>\n",
       "      <th>date_start</th>\n",
       "      <th>date_end</th>\n",
       "      <th>latitude</th>\n",
       "      <th>longitude</th>\n",
       "      <th>best</th>\n",
       "      <th>deaths_civilians</th>\n",
       "      <th>region</th>\n",
       "      <th>country</th>\n",
       "      <th>adm_1</th>\n",
       "      <th>type_of_violence</th>\n",
       "      <th>side_a</th>\n",
       "      <th>side_b</th>\n",
       "    </tr>\n",
       "  </thead>\n",
       "  <tbody>\n",
       "    <tr>\n",
       "      <th>0</th>\n",
       "      <td>2017-07-31 00:00:00.000</td>\n",
       "      <td>2017-07-31 00:00:00.000</td>\n",
       "      <td>34.531094</td>\n",
       "      <td>69.162796</td>\n",
       "      <td>6</td>\n",
       "      <td>0</td>\n",
       "      <td>Asia</td>\n",
       "      <td>Afghanistan</td>\n",
       "      <td>Kabul province</td>\n",
       "      <td>1</td>\n",
       "      <td>Government of Iraq</td>\n",
       "      <td>IS</td>\n",
       "    </tr>\n",
       "    <tr>\n",
       "      <th>1</th>\n",
       "      <td>2021-08-26 00:00:00.000</td>\n",
       "      <td>2021-08-26 00:00:00.000</td>\n",
       "      <td>34.564444</td>\n",
       "      <td>69.217222</td>\n",
       "      <td>183</td>\n",
       "      <td>141</td>\n",
       "      <td>Asia</td>\n",
       "      <td>Afghanistan</td>\n",
       "      <td>Kabul province</td>\n",
       "      <td>1</td>\n",
       "      <td>Government of Iraq</td>\n",
       "      <td>IS</td>\n",
       "    </tr>\n",
       "    <tr>\n",
       "      <th>2</th>\n",
       "      <td>2021-08-28 00:00:00.000</td>\n",
       "      <td>2021-08-28 00:00:00.000</td>\n",
       "      <td>34.428844</td>\n",
       "      <td>70.455750</td>\n",
       "      <td>2</td>\n",
       "      <td>0</td>\n",
       "      <td>Asia</td>\n",
       "      <td>Afghanistan</td>\n",
       "      <td>Nangarhar province</td>\n",
       "      <td>1</td>\n",
       "      <td>Government of Iraq</td>\n",
       "      <td>IS</td>\n",
       "    </tr>\n",
       "    <tr>\n",
       "      <th>3</th>\n",
       "      <td>2021-08-29 00:00:00.000</td>\n",
       "      <td>2021-08-29 00:00:00.000</td>\n",
       "      <td>34.531094</td>\n",
       "      <td>69.162796</td>\n",
       "      <td>10</td>\n",
       "      <td>10</td>\n",
       "      <td>Asia</td>\n",
       "      <td>Afghanistan</td>\n",
       "      <td>Kabul province</td>\n",
       "      <td>1</td>\n",
       "      <td>Government of Iraq</td>\n",
       "      <td>IS</td>\n",
       "    </tr>\n",
       "    <tr>\n",
       "      <th>4</th>\n",
       "      <td>1989-01-07 00:00:00.000</td>\n",
       "      <td>1989-01-13 00:00:00.000</td>\n",
       "      <td>34.333330</td>\n",
       "      <td>70.416670</td>\n",
       "      <td>6</td>\n",
       "      <td>0</td>\n",
       "      <td>Asia</td>\n",
       "      <td>Afghanistan</td>\n",
       "      <td>Nangarhar province</td>\n",
       "      <td>1</td>\n",
       "      <td>Government of Afghanistan</td>\n",
       "      <td>Jam'iyyat-i Islami-yi Afghanistan</td>\n",
       "    </tr>\n",
       "    <tr>\n",
       "      <th>5</th>\n",
       "      <td>1989-01-15 00:00:00.000</td>\n",
       "      <td>1989-01-18 00:00:00.000</td>\n",
       "      <td>36.750000</td>\n",
       "      <td>68.750000</td>\n",
       "      <td>4</td>\n",
       "      <td>0</td>\n",
       "      <td>Asia</td>\n",
       "      <td>Afghanistan</td>\n",
       "      <td>Kunduz province</td>\n",
       "      <td>1</td>\n",
       "      <td>Government of Afghanistan</td>\n",
       "      <td>Jam'iyyat-i Islami-yi Afghanistan</td>\n",
       "    </tr>\n",
       "    <tr>\n",
       "      <th>6</th>\n",
       "      <td>1989-01-23 00:00:00.000</td>\n",
       "      <td>1989-01-24 00:00:00.000</td>\n",
       "      <td>35.315833</td>\n",
       "      <td>69.038889</td>\n",
       "      <td>600</td>\n",
       "      <td>0</td>\n",
       "      <td>Asia</td>\n",
       "      <td>Afghanistan</td>\n",
       "      <td>Baghlan province</td>\n",
       "      <td>1</td>\n",
       "      <td>Government of Afghanistan</td>\n",
       "      <td>Jam'iyyat-i Islami-yi Afghanistan</td>\n",
       "    </tr>\n",
       "    <tr>\n",
       "      <th>7</th>\n",
       "      <td>1989-01-30 00:00:00.000</td>\n",
       "      <td>1989-02-05 00:00:00.000</td>\n",
       "      <td>34.531094</td>\n",
       "      <td>69.162796</td>\n",
       "      <td>2</td>\n",
       "      <td>0</td>\n",
       "      <td>Asia</td>\n",
       "      <td>Afghanistan</td>\n",
       "      <td>Kabul province</td>\n",
       "      <td>1</td>\n",
       "      <td>Government of Afghanistan</td>\n",
       "      <td>Jam'iyyat-i Islami-yi Afghanistan</td>\n",
       "    </tr>\n",
       "    <tr>\n",
       "      <th>8</th>\n",
       "      <td>1989-01-31 00:00:00.000</td>\n",
       "      <td>1989-01-31 00:00:00.000</td>\n",
       "      <td>35.316030</td>\n",
       "      <td>69.038710</td>\n",
       "      <td>70</td>\n",
       "      <td>0</td>\n",
       "      <td>Asia</td>\n",
       "      <td>Afghanistan</td>\n",
       "      <td>Baghlan province</td>\n",
       "      <td>1</td>\n",
       "      <td>Government of Afghanistan</td>\n",
       "      <td>Jam'iyyat-i Islami-yi Afghanistan</td>\n",
       "    </tr>\n",
       "    <tr>\n",
       "      <th>9</th>\n",
       "      <td>1989-02-04 00:00:00.000</td>\n",
       "      <td>1989-02-04 00:00:00.000</td>\n",
       "      <td>34.500000</td>\n",
       "      <td>62.000000</td>\n",
       "      <td>20</td>\n",
       "      <td>0</td>\n",
       "      <td>Asia</td>\n",
       "      <td>Afghanistan</td>\n",
       "      <td>Hirat province</td>\n",
       "      <td>1</td>\n",
       "      <td>Government of Afghanistan</td>\n",
       "      <td>Jam'iyyat-i Islami-yi Afghanistan</td>\n",
       "    </tr>\n",
       "  </tbody>\n",
       "</table>\n",
       "</div>"
      ],
      "text/plain": [
       "                date_start                 date_end   latitude  longitude  \\\n",
       "0  2017-07-31 00:00:00.000  2017-07-31 00:00:00.000  34.531094  69.162796   \n",
       "1  2021-08-26 00:00:00.000  2021-08-26 00:00:00.000  34.564444  69.217222   \n",
       "2  2021-08-28 00:00:00.000  2021-08-28 00:00:00.000  34.428844  70.455750   \n",
       "3  2021-08-29 00:00:00.000  2021-08-29 00:00:00.000  34.531094  69.162796   \n",
       "4  1989-01-07 00:00:00.000  1989-01-13 00:00:00.000  34.333330  70.416670   \n",
       "5  1989-01-15 00:00:00.000  1989-01-18 00:00:00.000  36.750000  68.750000   \n",
       "6  1989-01-23 00:00:00.000  1989-01-24 00:00:00.000  35.315833  69.038889   \n",
       "7  1989-01-30 00:00:00.000  1989-02-05 00:00:00.000  34.531094  69.162796   \n",
       "8  1989-01-31 00:00:00.000  1989-01-31 00:00:00.000  35.316030  69.038710   \n",
       "9  1989-02-04 00:00:00.000  1989-02-04 00:00:00.000  34.500000  62.000000   \n",
       "\n",
       "   best  deaths_civilians region      country               adm_1  \\\n",
       "0     6                 0   Asia  Afghanistan      Kabul province   \n",
       "1   183               141   Asia  Afghanistan      Kabul province   \n",
       "2     2                 0   Asia  Afghanistan  Nangarhar province   \n",
       "3    10                10   Asia  Afghanistan      Kabul province   \n",
       "4     6                 0   Asia  Afghanistan  Nangarhar province   \n",
       "5     4                 0   Asia  Afghanistan     Kunduz province   \n",
       "6   600                 0   Asia  Afghanistan    Baghlan province   \n",
       "7     2                 0   Asia  Afghanistan      Kabul province   \n",
       "8    70                 0   Asia  Afghanistan    Baghlan province   \n",
       "9    20                 0   Asia  Afghanistan      Hirat province   \n",
       "\n",
       "   type_of_violence                     side_a  \\\n",
       "0                 1         Government of Iraq   \n",
       "1                 1         Government of Iraq   \n",
       "2                 1         Government of Iraq   \n",
       "3                 1         Government of Iraq   \n",
       "4                 1  Government of Afghanistan   \n",
       "5                 1  Government of Afghanistan   \n",
       "6                 1  Government of Afghanistan   \n",
       "7                 1  Government of Afghanistan   \n",
       "8                 1  Government of Afghanistan   \n",
       "9                 1  Government of Afghanistan   \n",
       "\n",
       "                              side_b  \n",
       "0                                 IS  \n",
       "1                                 IS  \n",
       "2                                 IS  \n",
       "3                                 IS  \n",
       "4  Jam'iyyat-i Islami-yi Afghanistan  \n",
       "5  Jam'iyyat-i Islami-yi Afghanistan  \n",
       "6  Jam'iyyat-i Islami-yi Afghanistan  \n",
       "7  Jam'iyyat-i Islami-yi Afghanistan  \n",
       "8  Jam'iyyat-i Islami-yi Afghanistan  \n",
       "9  Jam'iyyat-i Islami-yi Afghanistan  "
      ]
     },
     "execution_count": 8,
     "metadata": {},
     "output_type": "execute_result"
    }
   ],
   "source": [
    "GEDEvent.head(10)"
   ]
  },
  {
   "cell_type": "code",
   "execution_count": 9,
   "metadata": {},
   "outputs": [
    {
     "data": {
      "text/plain": [
       "date_start          2017-07-31 00:00:00.000\n",
       "date_end            2017-07-31 00:00:00.000\n",
       "latitude                          34.531094\n",
       "longitude                         69.162796\n",
       "best                                      6\n",
       "deaths_civilians                          0\n",
       "region                                 Asia\n",
       "country                         Afghanistan\n",
       "adm_1                        Kabul province\n",
       "type_of_violence                          1\n",
       "side_a                   Government of Iraq\n",
       "side_b                                   IS\n",
       "Name: 0, dtype: object"
      ]
     },
     "execution_count": 9,
     "metadata": {},
     "output_type": "execute_result"
    }
   ],
   "source": [
    "GEDEvent.iloc[0]"
   ]
  },
  {
   "cell_type": "code",
   "execution_count": 10,
   "metadata": {},
   "outputs": [
    {
     "name": "stdout",
     "output_type": "stream",
     "text": [
      "<class 'pandas.core.frame.DataFrame'>\n",
      "RangeIndex: 385918 entries, 0 to 385917\n",
      "Data columns (total 12 columns):\n",
      " #   Column            Non-Null Count   Dtype  \n",
      "---  ------            --------------   -----  \n",
      " 0   date_start        385918 non-null  object \n",
      " 1   date_end          385918 non-null  object \n",
      " 2   latitude          385918 non-null  float64\n",
      " 3   longitude         385918 non-null  float64\n",
      " 4   best              385918 non-null  int64  \n",
      " 5   deaths_civilians  385918 non-null  int64  \n",
      " 6   region            385918 non-null  object \n",
      " 7   country           385918 non-null  object \n",
      " 8   adm_1             366371 non-null  object \n",
      " 9   type_of_violence  385918 non-null  int64  \n",
      " 10  side_a            385918 non-null  object \n",
      " 11  side_b            385918 non-null  object \n",
      "dtypes: float64(2), int64(3), object(7)\n",
      "memory usage: 35.3+ MB\n"
     ]
    }
   ],
   "source": [
    "GEDEvent.info()"
   ]
  },
  {
   "cell_type": "code",
   "execution_count": 11,
   "metadata": {},
   "outputs": [
    {
     "data": {
      "text/html": [
       "<div>\n",
       "<style scoped>\n",
       "    .dataframe tbody tr th:only-of-type {\n",
       "        vertical-align: middle;\n",
       "    }\n",
       "\n",
       "    .dataframe tbody tr th {\n",
       "        vertical-align: top;\n",
       "    }\n",
       "\n",
       "    .dataframe thead th {\n",
       "        text-align: right;\n",
       "    }\n",
       "</style>\n",
       "<table border=\"1\" class=\"dataframe\">\n",
       "  <thead>\n",
       "    <tr style=\"text-align: right;\">\n",
       "      <th></th>\n",
       "      <th>date_start</th>\n",
       "      <th>date_end</th>\n",
       "      <th>latitude</th>\n",
       "      <th>longitude</th>\n",
       "      <th>best</th>\n",
       "      <th>deaths_civilians</th>\n",
       "      <th>region</th>\n",
       "      <th>country</th>\n",
       "      <th>adm_1</th>\n",
       "      <th>type_of_violence</th>\n",
       "      <th>side_a</th>\n",
       "      <th>side_b</th>\n",
       "    </tr>\n",
       "  </thead>\n",
       "  <tbody>\n",
       "  </tbody>\n",
       "</table>\n",
       "</div>"
      ],
      "text/plain": [
       "Empty DataFrame\n",
       "Columns: [date_start, date_end, latitude, longitude, best, deaths_civilians, region, country, adm_1, type_of_violence, side_a, side_b]\n",
       "Index: []"
      ]
     },
     "execution_count": 11,
     "metadata": {},
     "output_type": "execute_result"
    }
   ],
   "source": [
    "# Me fijo si hay algún valor raro en posición\n",
    "GEDEvent[(GEDEvent['latitude'] < -90) | (GEDEvent['latitude'] > 90)]"
   ]
  },
  {
   "cell_type": "markdown",
   "metadata": {},
   "source": [
    "### Ajustamos los tipos de datos"
   ]
  },
  {
   "cell_type": "code",
   "execution_count": 12,
   "metadata": {},
   "outputs": [],
   "source": [
    "\n",
    "         \n",
    "# Numéricas temporales         \n",
    "GEDEvent['date_start'] = pd.to_datetime(GEDEvent['date_start'])\n",
    "GEDEvent['date_end'] = pd.to_datetime(GEDEvent['date_end'])\n",
    "\n",
    "# Categóricas\n",
    "GEDEvent['region'] = GEDEvent['region'].astype('category')\n",
    "GEDEvent['country'] = GEDEvent['country'].astype('category')\n",
    "GEDEvent['adm_1'] = GEDEvent['adm_1'].astype('category')\n",
    "GEDEvent['type_of_violence'] = GEDEvent['type_of_violence'].astype('category')\n",
    "GEDEvent['side_a'] = GEDEvent['side_a'].astype('category')\n",
    "GEDEvent['side_b'] = GEDEvent['side_b'].astype('category')\n",
    "\n",
    "\n"
   ]
  },
  {
   "cell_type": "code",
   "execution_count": 13,
   "metadata": {},
   "outputs": [
    {
     "name": "stdout",
     "output_type": "stream",
     "text": [
      "<class 'pandas.core.frame.DataFrame'>\n",
      "RangeIndex: 385918 entries, 0 to 385917\n",
      "Data columns (total 12 columns):\n",
      " #   Column            Non-Null Count   Dtype         \n",
      "---  ------            --------------   -----         \n",
      " 0   date_start        385918 non-null  datetime64[ns]\n",
      " 1   date_end          385918 non-null  datetime64[ns]\n",
      " 2   latitude          385918 non-null  float64       \n",
      " 3   longitude         385918 non-null  float64       \n",
      " 4   best              385918 non-null  int64         \n",
      " 5   deaths_civilians  385918 non-null  int64         \n",
      " 6   region            385918 non-null  category      \n",
      " 7   country           385918 non-null  category      \n",
      " 8   adm_1             366371 non-null  category      \n",
      " 9   type_of_violence  385918 non-null  category      \n",
      " 10  side_a            385918 non-null  category      \n",
      " 11  side_b            385918 non-null  category      \n",
      "dtypes: category(6), datetime64[ns](2), float64(2), int64(2)\n",
      "memory usage: 21.1 MB\n"
     ]
    }
   ],
   "source": [
    "GEDEvent.info()"
   ]
  },
  {
   "cell_type": "markdown",
   "metadata": {},
   "source": [
    "---"
   ]
  },
  {
   "cell_type": "markdown",
   "metadata": {},
   "source": [
    "---\n",
    "### Variables categóricas: exploración\n",
    "---"
   ]
  },
  {
   "cell_type": "code",
   "execution_count": 14,
   "metadata": {},
   "outputs": [
    {
     "data": {
      "text/html": [
       "<div>\n",
       "<style scoped>\n",
       "    .dataframe tbody tr th:only-of-type {\n",
       "        vertical-align: middle;\n",
       "    }\n",
       "\n",
       "    .dataframe tbody tr th {\n",
       "        vertical-align: top;\n",
       "    }\n",
       "\n",
       "    .dataframe thead th {\n",
       "        text-align: right;\n",
       "    }\n",
       "</style>\n",
       "<table border=\"1\" class=\"dataframe\">\n",
       "  <thead>\n",
       "    <tr style=\"text-align: right;\">\n",
       "      <th></th>\n",
       "      <th>date_start</th>\n",
       "      <th>date_end</th>\n",
       "      <th>latitude</th>\n",
       "      <th>longitude</th>\n",
       "      <th>best</th>\n",
       "      <th>deaths_civilians</th>\n",
       "      <th>region</th>\n",
       "      <th>country</th>\n",
       "      <th>adm_1</th>\n",
       "      <th>type_of_violence</th>\n",
       "      <th>side_a</th>\n",
       "      <th>side_b</th>\n",
       "    </tr>\n",
       "  </thead>\n",
       "  <tbody>\n",
       "  </tbody>\n",
       "</table>\n",
       "</div>"
      ],
      "text/plain": [
       "Empty DataFrame\n",
       "Columns: [date_start, date_end, latitude, longitude, best, deaths_civilians, region, country, adm_1, type_of_violence, side_a, side_b]\n",
       "Index: []"
      ]
     },
     "execution_count": 14,
     "metadata": {},
     "output_type": "execute_result"
    }
   ],
   "source": [
    "GEDEvent[GEDEvent['best'] == '0']"
   ]
  },
  {
   "cell_type": "code",
   "execution_count": null,
   "metadata": {},
   "outputs": [],
   "source": []
  },
  {
   "cell_type": "code",
   "execution_count": 15,
   "metadata": {},
   "outputs": [
    {
     "data": {
      "text/html": [
       "<div>\n",
       "<style scoped>\n",
       "    .dataframe tbody tr th:only-of-type {\n",
       "        vertical-align: middle;\n",
       "    }\n",
       "\n",
       "    .dataframe tbody tr th {\n",
       "        vertical-align: top;\n",
       "    }\n",
       "\n",
       "    .dataframe thead th {\n",
       "        text-align: right;\n",
       "    }\n",
       "</style>\n",
       "<table border=\"1\" class=\"dataframe\">\n",
       "  <thead>\n",
       "    <tr style=\"text-align: right;\">\n",
       "      <th></th>\n",
       "      <th>region</th>\n",
       "      <th>country</th>\n",
       "      <th>adm_1</th>\n",
       "      <th>type_of_violence</th>\n",
       "      <th>side_a</th>\n",
       "      <th>side_b</th>\n",
       "    </tr>\n",
       "  </thead>\n",
       "  <tbody>\n",
       "    <tr>\n",
       "      <th>count</th>\n",
       "      <td>385918</td>\n",
       "      <td>385918</td>\n",
       "      <td>366371</td>\n",
       "      <td>385918</td>\n",
       "      <td>385918</td>\n",
       "      <td>385918</td>\n",
       "    </tr>\n",
       "    <tr>\n",
       "      <th>unique</th>\n",
       "      <td>5</td>\n",
       "      <td>124</td>\n",
       "      <td>1682</td>\n",
       "      <td>3</td>\n",
       "      <td>966</td>\n",
       "      <td>959</td>\n",
       "    </tr>\n",
       "    <tr>\n",
       "      <th>top</th>\n",
       "      <td>Middle East</td>\n",
       "      <td>Syria</td>\n",
       "      <td>Rif Dimashq governorate</td>\n",
       "      <td>1</td>\n",
       "      <td>Government of Syria</td>\n",
       "      <td>Syrian insurgents</td>\n",
       "    </tr>\n",
       "    <tr>\n",
       "      <th>freq</th>\n",
       "      <td>122215</td>\n",
       "      <td>87861</td>\n",
       "      <td>17487</td>\n",
       "      <td>271331</td>\n",
       "      <td>75181</td>\n",
       "      <td>66186</td>\n",
       "    </tr>\n",
       "  </tbody>\n",
       "</table>\n",
       "</div>"
      ],
      "text/plain": [
       "             region country                    adm_1  type_of_violence  \\\n",
       "count        385918  385918                   366371            385918   \n",
       "unique            5     124                     1682                 3   \n",
       "top     Middle East   Syria  Rif Dimashq governorate                 1   \n",
       "freq         122215   87861                    17487            271331   \n",
       "\n",
       "                     side_a             side_b  \n",
       "count                385918             385918  \n",
       "unique                  966                959  \n",
       "top     Government of Syria  Syrian insurgents  \n",
       "freq                  75181              66186  "
      ]
     },
     "execution_count": 15,
     "metadata": {},
     "output_type": "execute_result"
    }
   ],
   "source": [
    "GEDEvent.describe(include='category')"
   ]
  },
  {
   "cell_type": "markdown",
   "metadata": {},
   "source": [
    "#### Corredor y equipo"
   ]
  },
  {
   "cell_type": "code",
   "execution_count": 16,
   "metadata": {
    "tags": []
   },
   "outputs": [
    {
     "data": {
      "text/plain": [
       "['Government of Iraq', 'Government of Afghanistan', 'Government of India', 'Government of Tajikistan', 'Government of Pakistan', ..., 'Al-Maraziq', 'Forces of the Presidential Leadership Council', 'Abu al-Abbas Brigades', 'Giants Brigade, STC', 'Government of United Kingdom, Government of U...]\n",
       "Length: 966\n",
       "Categories (966, object): ['16th Division, Islamic Front, Jabhat Fateh al..., '1920 Revolution Brigades', '23rd Division, Ahrar al-Sham, Jaysh al Nasr, ..., '23rd Division, Jaysh al Nasr, Jaysh al-Nukhba..., ..., 'al-Qaida', 'al-Tawhid Brigade', 'anti-Balaka', 'anti-Balaka, FPRC-AK']"
      ]
     },
     "execution_count": 16,
     "metadata": {},
     "output_type": "execute_result"
    }
   ],
   "source": [
    "# Top 10 Actor A\n",
    "GEDEvent['side_a'].unique()"
   ]
  },
  {
   "cell_type": "code",
   "execution_count": 17,
   "metadata": {},
   "outputs": [
    {
     "data": {
      "text/plain": [
       "side_a\n",
       "Government of Syria                    75181\n",
       "Government of Afghanistan              40223\n",
       "Government of Russia (Soviet Union)    32460\n",
       "Government of India                    13011\n",
       "IS                                     12257\n",
       "Government of Israel                    9524\n",
       "Jalisco Cartel New Generation           9146\n",
       "Government of Myanmar (Burma)           8220\n",
       "Government of Turkey                    8014\n",
       "Government of Bosnia-Herzegovina        7908\n",
       "Name: count, dtype: int64"
      ]
     },
     "execution_count": 17,
     "metadata": {},
     "output_type": "execute_result"
    }
   ],
   "source": [
    "\n",
    "GEDEvent['side_a'].value_counts().head(10)"
   ]
  },
  {
   "cell_type": "code",
   "execution_count": 19,
   "metadata": {},
   "outputs": [
    {
     "ename": "ValueError",
     "evalue": "Could not interpret value `index` for `x`. An entry with this name does not appear in `data`.",
     "output_type": "error",
     "traceback": [
      "\u001b[31m---------------------------------------------------------------------------\u001b[39m",
      "\u001b[31mValueError\u001b[39m                                Traceback (most recent call last)",
      "\u001b[36mCell\u001b[39m\u001b[36m \u001b[39m\u001b[32mIn[19]\u001b[39m\u001b[32m, line 2\u001b[39m\n\u001b[32m      1\u001b[39m plt.figure(figsize=(\u001b[32m12\u001b[39m, \u001b[32m7\u001b[39m))\n\u001b[32m----> \u001b[39m\u001b[32m2\u001b[39m \u001b[43msns\u001b[49m\u001b[43m.\u001b[49m\u001b[43mbarplot\u001b[49m\u001b[43m(\u001b[49m\u001b[43mdata\u001b[49m\u001b[43m=\u001b[49m\u001b[43mGEDEvent\u001b[49m\u001b[43m[\u001b[49m\u001b[33;43m'\u001b[39;49m\u001b[33;43mside_a\u001b[39;49m\u001b[33;43m'\u001b[39;49m\u001b[43m]\u001b[49m\u001b[43m.\u001b[49m\u001b[43mvalue_counts\u001b[49m\u001b[43m(\u001b[49m\u001b[43m)\u001b[49m\u001b[43m.\u001b[49m\u001b[43mhead\u001b[49m\u001b[43m(\u001b[49m\u001b[32;43m10\u001b[39;49m\u001b[43m)\u001b[49m\u001b[43m.\u001b[49m\u001b[43mreset_index\u001b[49m\u001b[43m(\u001b[49m\u001b[43m)\u001b[49m\u001b[43m,\u001b[49m\u001b[43m \u001b[49m\u001b[43mx\u001b[49m\u001b[43m=\u001b[49m\u001b[33;43m'\u001b[39;49m\u001b[33;43mindex\u001b[39;49m\u001b[33;43m'\u001b[39;49m\u001b[43m,\u001b[49m\u001b[43m \u001b[49m\u001b[43my\u001b[49m\u001b[43m=\u001b[49m\u001b[33;43m'\u001b[39;49m\u001b[33;43mside_a\u001b[39;49m\u001b[33;43m'\u001b[39;49m\u001b[43m,\u001b[49m\u001b[43m \u001b[49m\u001b[43mpalette\u001b[49m\u001b[43m=\u001b[49m\u001b[33;43m'\u001b[39;49m\u001b[33;43mviridis\u001b[39;49m\u001b[33;43m'\u001b[39;49m\u001b[43m)\u001b[49m\n\u001b[32m      3\u001b[39m plt.title(\u001b[33m'\u001b[39m\u001b[33mTop 10 Actor A\u001b[39m\u001b[33m'\u001b[39m)\n\u001b[32m      4\u001b[39m plt.xlabel(\u001b[33m'\u001b[39m\u001b[33mActor A\u001b[39m\u001b[33m'\u001b[39m)\n",
      "\u001b[36mFile \u001b[39m\u001b[32m/media/rnyx/Tapioka/anaconda3/envs/add-env/lib/python3.11/site-packages/seaborn/categorical.py:2341\u001b[39m, in \u001b[36mbarplot\u001b[39m\u001b[34m(data, x, y, hue, order, hue_order, estimator, errorbar, n_boot, seed, units, weights, orient, color, palette, saturation, fill, hue_norm, width, dodge, gap, log_scale, native_scale, formatter, legend, capsize, err_kws, ci, errcolor, errwidth, ax, **kwargs)\u001b[39m\n\u001b[32m   2338\u001b[39m \u001b[38;5;28;01mif\u001b[39;00m estimator \u001b[38;5;129;01mis\u001b[39;00m \u001b[38;5;28mlen\u001b[39m:\n\u001b[32m   2339\u001b[39m     estimator = \u001b[33m\"\u001b[39m\u001b[33msize\u001b[39m\u001b[33m\"\u001b[39m\n\u001b[32m-> \u001b[39m\u001b[32m2341\u001b[39m p = \u001b[43m_CategoricalAggPlotter\u001b[49m\u001b[43m(\u001b[49m\n\u001b[32m   2342\u001b[39m \u001b[43m    \u001b[49m\u001b[43mdata\u001b[49m\u001b[43m=\u001b[49m\u001b[43mdata\u001b[49m\u001b[43m,\u001b[49m\n\u001b[32m   2343\u001b[39m \u001b[43m    \u001b[49m\u001b[43mvariables\u001b[49m\u001b[43m=\u001b[49m\u001b[38;5;28;43mdict\u001b[39;49m\u001b[43m(\u001b[49m\u001b[43mx\u001b[49m\u001b[43m=\u001b[49m\u001b[43mx\u001b[49m\u001b[43m,\u001b[49m\u001b[43m \u001b[49m\u001b[43my\u001b[49m\u001b[43m=\u001b[49m\u001b[43my\u001b[49m\u001b[43m,\u001b[49m\u001b[43m \u001b[49m\u001b[43mhue\u001b[49m\u001b[43m=\u001b[49m\u001b[43mhue\u001b[49m\u001b[43m,\u001b[49m\u001b[43m \u001b[49m\u001b[43munits\u001b[49m\u001b[43m=\u001b[49m\u001b[43munits\u001b[49m\u001b[43m,\u001b[49m\u001b[43m \u001b[49m\u001b[43mweight\u001b[49m\u001b[43m=\u001b[49m\u001b[43mweights\u001b[49m\u001b[43m)\u001b[49m\u001b[43m,\u001b[49m\n\u001b[32m   2344\u001b[39m \u001b[43m    \u001b[49m\u001b[43morder\u001b[49m\u001b[43m=\u001b[49m\u001b[43morder\u001b[49m\u001b[43m,\u001b[49m\n\u001b[32m   2345\u001b[39m \u001b[43m    \u001b[49m\u001b[43morient\u001b[49m\u001b[43m=\u001b[49m\u001b[43morient\u001b[49m\u001b[43m,\u001b[49m\n\u001b[32m   2346\u001b[39m \u001b[43m    \u001b[49m\u001b[43mcolor\u001b[49m\u001b[43m=\u001b[49m\u001b[43mcolor\u001b[49m\u001b[43m,\u001b[49m\n\u001b[32m   2347\u001b[39m \u001b[43m    \u001b[49m\u001b[43mlegend\u001b[49m\u001b[43m=\u001b[49m\u001b[43mlegend\u001b[49m\u001b[43m,\u001b[49m\n\u001b[32m   2348\u001b[39m \u001b[43m\u001b[49m\u001b[43m)\u001b[49m\n\u001b[32m   2350\u001b[39m \u001b[38;5;28;01mif\u001b[39;00m ax \u001b[38;5;129;01mis\u001b[39;00m \u001b[38;5;28;01mNone\u001b[39;00m:\n\u001b[32m   2351\u001b[39m     ax = plt.gca()\n",
      "\u001b[36mFile \u001b[39m\u001b[32m/media/rnyx/Tapioka/anaconda3/envs/add-env/lib/python3.11/site-packages/seaborn/categorical.py:67\u001b[39m, in \u001b[36m_CategoricalPlotter.__init__\u001b[39m\u001b[34m(self, data, variables, order, orient, require_numeric, color, legend)\u001b[39m\n\u001b[32m     56\u001b[39m \u001b[38;5;28;01mdef\u001b[39;00m\u001b[38;5;250m \u001b[39m\u001b[34m__init__\u001b[39m(\n\u001b[32m     57\u001b[39m     \u001b[38;5;28mself\u001b[39m,\n\u001b[32m     58\u001b[39m     data=\u001b[38;5;28;01mNone\u001b[39;00m,\n\u001b[32m   (...)\u001b[39m\u001b[32m     64\u001b[39m     legend=\u001b[33m\"\u001b[39m\u001b[33mauto\u001b[39m\u001b[33m\"\u001b[39m,\n\u001b[32m     65\u001b[39m ):\n\u001b[32m---> \u001b[39m\u001b[32m67\u001b[39m     \u001b[38;5;28;43msuper\u001b[39;49m\u001b[43m(\u001b[49m\u001b[43m)\u001b[49m\u001b[43m.\u001b[49m\u001b[34;43m__init__\u001b[39;49m\u001b[43m(\u001b[49m\u001b[43mdata\u001b[49m\u001b[43m=\u001b[49m\u001b[43mdata\u001b[49m\u001b[43m,\u001b[49m\u001b[43m \u001b[49m\u001b[43mvariables\u001b[49m\u001b[43m=\u001b[49m\u001b[43mvariables\u001b[49m\u001b[43m)\u001b[49m\n\u001b[32m     69\u001b[39m     \u001b[38;5;66;03m# This method takes care of some bookkeeping that is necessary because the\u001b[39;00m\n\u001b[32m     70\u001b[39m     \u001b[38;5;66;03m# original categorical plots (prior to the 2021 refactor) had some rules that\u001b[39;00m\n\u001b[32m     71\u001b[39m     \u001b[38;5;66;03m# don't fit exactly into VectorPlotter logic. It may be wise to have a second\u001b[39;00m\n\u001b[32m   (...)\u001b[39m\u001b[32m     76\u001b[39m     \u001b[38;5;66;03m# default VectorPlotter rules. If we do decide to make orient part of the\u001b[39;00m\n\u001b[32m     77\u001b[39m     \u001b[38;5;66;03m# _base variable assignment, we'll want to figure out how to express that.\u001b[39;00m\n\u001b[32m     78\u001b[39m     \u001b[38;5;28;01mif\u001b[39;00m \u001b[38;5;28mself\u001b[39m.input_format == \u001b[33m\"\u001b[39m\u001b[33mwide\u001b[39m\u001b[33m\"\u001b[39m \u001b[38;5;129;01mand\u001b[39;00m orient \u001b[38;5;129;01min\u001b[39;00m [\u001b[33m\"\u001b[39m\u001b[33mh\u001b[39m\u001b[33m\"\u001b[39m, \u001b[33m\"\u001b[39m\u001b[33my\u001b[39m\u001b[33m\"\u001b[39m]:\n",
      "\u001b[36mFile \u001b[39m\u001b[32m/media/rnyx/Tapioka/anaconda3/envs/add-env/lib/python3.11/site-packages/seaborn/_base.py:634\u001b[39m, in \u001b[36mVectorPlotter.__init__\u001b[39m\u001b[34m(self, data, variables)\u001b[39m\n\u001b[32m    629\u001b[39m \u001b[38;5;66;03m# var_ordered is relevant only for categorical axis variables, and may\u001b[39;00m\n\u001b[32m    630\u001b[39m \u001b[38;5;66;03m# be better handled by an internal axis information object that tracks\u001b[39;00m\n\u001b[32m    631\u001b[39m \u001b[38;5;66;03m# such information and is set up by the scale_* methods. The analogous\u001b[39;00m\n\u001b[32m    632\u001b[39m \u001b[38;5;66;03m# information for numeric axes would be information about log scales.\u001b[39;00m\n\u001b[32m    633\u001b[39m \u001b[38;5;28mself\u001b[39m._var_ordered = {\u001b[33m\"\u001b[39m\u001b[33mx\u001b[39m\u001b[33m\"\u001b[39m: \u001b[38;5;28;01mFalse\u001b[39;00m, \u001b[33m\"\u001b[39m\u001b[33my\u001b[39m\u001b[33m\"\u001b[39m: \u001b[38;5;28;01mFalse\u001b[39;00m}  \u001b[38;5;66;03m# alt., used DefaultDict\u001b[39;00m\n\u001b[32m--> \u001b[39m\u001b[32m634\u001b[39m \u001b[38;5;28;43mself\u001b[39;49m\u001b[43m.\u001b[49m\u001b[43massign_variables\u001b[49m\u001b[43m(\u001b[49m\u001b[43mdata\u001b[49m\u001b[43m,\u001b[49m\u001b[43m \u001b[49m\u001b[43mvariables\u001b[49m\u001b[43m)\u001b[49m\n\u001b[32m    636\u001b[39m \u001b[38;5;66;03m# TODO Lots of tests assume that these are called to initialize the\u001b[39;00m\n\u001b[32m    637\u001b[39m \u001b[38;5;66;03m# mappings to default values on class initialization. I'd prefer to\u001b[39;00m\n\u001b[32m    638\u001b[39m \u001b[38;5;66;03m# move away from that and only have a mapping when explicitly called.\u001b[39;00m\n\u001b[32m    639\u001b[39m \u001b[38;5;28;01mfor\u001b[39;00m var \u001b[38;5;129;01min\u001b[39;00m [\u001b[33m\"\u001b[39m\u001b[33mhue\u001b[39m\u001b[33m\"\u001b[39m, \u001b[33m\"\u001b[39m\u001b[33msize\u001b[39m\u001b[33m\"\u001b[39m, \u001b[33m\"\u001b[39m\u001b[33mstyle\u001b[39m\u001b[33m\"\u001b[39m]:\n",
      "\u001b[36mFile \u001b[39m\u001b[32m/media/rnyx/Tapioka/anaconda3/envs/add-env/lib/python3.11/site-packages/seaborn/_base.py:679\u001b[39m, in \u001b[36mVectorPlotter.assign_variables\u001b[39m\u001b[34m(self, data, variables)\u001b[39m\n\u001b[32m    674\u001b[39m \u001b[38;5;28;01melse\u001b[39;00m:\n\u001b[32m    675\u001b[39m     \u001b[38;5;66;03m# When dealing with long-form input, use the newer PlotData\u001b[39;00m\n\u001b[32m    676\u001b[39m     \u001b[38;5;66;03m# object (internal but introduced for the objects interface)\u001b[39;00m\n\u001b[32m    677\u001b[39m     \u001b[38;5;66;03m# to centralize / standardize data consumption logic.\u001b[39;00m\n\u001b[32m    678\u001b[39m     \u001b[38;5;28mself\u001b[39m.input_format = \u001b[33m\"\u001b[39m\u001b[33mlong\u001b[39m\u001b[33m\"\u001b[39m\n\u001b[32m--> \u001b[39m\u001b[32m679\u001b[39m     plot_data = \u001b[43mPlotData\u001b[49m\u001b[43m(\u001b[49m\u001b[43mdata\u001b[49m\u001b[43m,\u001b[49m\u001b[43m \u001b[49m\u001b[43mvariables\u001b[49m\u001b[43m)\u001b[49m\n\u001b[32m    680\u001b[39m     frame = plot_data.frame\n\u001b[32m    681\u001b[39m     names = plot_data.names\n",
      "\u001b[36mFile \u001b[39m\u001b[32m/media/rnyx/Tapioka/anaconda3/envs/add-env/lib/python3.11/site-packages/seaborn/_core/data.py:58\u001b[39m, in \u001b[36mPlotData.__init__\u001b[39m\u001b[34m(self, data, variables)\u001b[39m\n\u001b[32m     51\u001b[39m \u001b[38;5;28;01mdef\u001b[39;00m\u001b[38;5;250m \u001b[39m\u001b[34m__init__\u001b[39m(\n\u001b[32m     52\u001b[39m     \u001b[38;5;28mself\u001b[39m,\n\u001b[32m     53\u001b[39m     data: DataSource,\n\u001b[32m     54\u001b[39m     variables: \u001b[38;5;28mdict\u001b[39m[\u001b[38;5;28mstr\u001b[39m, VariableSpec],\n\u001b[32m     55\u001b[39m ):\n\u001b[32m     57\u001b[39m     data = handle_data_source(data)\n\u001b[32m---> \u001b[39m\u001b[32m58\u001b[39m     frame, names, ids = \u001b[38;5;28;43mself\u001b[39;49m\u001b[43m.\u001b[49m\u001b[43m_assign_variables\u001b[49m\u001b[43m(\u001b[49m\u001b[43mdata\u001b[49m\u001b[43m,\u001b[49m\u001b[43m \u001b[49m\u001b[43mvariables\u001b[49m\u001b[43m)\u001b[49m\n\u001b[32m     60\u001b[39m     \u001b[38;5;28mself\u001b[39m.frame = frame\n\u001b[32m     61\u001b[39m     \u001b[38;5;28mself\u001b[39m.names = names\n",
      "\u001b[36mFile \u001b[39m\u001b[32m/media/rnyx/Tapioka/anaconda3/envs/add-env/lib/python3.11/site-packages/seaborn/_core/data.py:232\u001b[39m, in \u001b[36mPlotData._assign_variables\u001b[39m\u001b[34m(self, data, variables)\u001b[39m\n\u001b[32m    230\u001b[39m     \u001b[38;5;28;01melse\u001b[39;00m:\n\u001b[32m    231\u001b[39m         err += \u001b[33m\"\u001b[39m\u001b[33mAn entry with this name does not appear in `data`.\u001b[39m\u001b[33m\"\u001b[39m\n\u001b[32m--> \u001b[39m\u001b[32m232\u001b[39m     \u001b[38;5;28;01mraise\u001b[39;00m \u001b[38;5;167;01mValueError\u001b[39;00m(err)\n\u001b[32m    234\u001b[39m \u001b[38;5;28;01melse\u001b[39;00m:\n\u001b[32m    235\u001b[39m \n\u001b[32m    236\u001b[39m     \u001b[38;5;66;03m# Otherwise, assume the value somehow represents data\u001b[39;00m\n\u001b[32m    237\u001b[39m \n\u001b[32m    238\u001b[39m     \u001b[38;5;66;03m# Ignore empty data structures\u001b[39;00m\n\u001b[32m    239\u001b[39m     \u001b[38;5;28;01mif\u001b[39;00m \u001b[38;5;28misinstance\u001b[39m(val, Sized) \u001b[38;5;129;01mand\u001b[39;00m \u001b[38;5;28mlen\u001b[39m(val) == \u001b[32m0\u001b[39m:\n",
      "\u001b[31mValueError\u001b[39m: Could not interpret value `index` for `x`. An entry with this name does not appear in `data`."
     ]
    },
    {
     "data": {
      "text/plain": [
       "<Figure size 1200x700 with 0 Axes>"
      ]
     },
     "metadata": {},
     "output_type": "display_data"
    }
   ],
   "source": [
    "\n",
    "plt.figure(figsize=(12, 7))\n",
    "sns.barplot(data=GEDEvent['side_a'].value_counts().head(10).reset_index(), x='index', y='side_a', palette='viridis')\n",
    "plt.title('Top 10 Actor A')\n",
    "plt.xlabel('Actor A')\n",
    "plt.ylabel('Count') \n",
    "\n",
    "\n",
    "\n",
    "\n",
    "\n",
    "\n",
    "\n",
    "plt.xticks(rotation=45, ha='right')\n",
    "plt.tight_layout() and plt.show()"
   ]
  }
 ],
 "metadata": {
  "kernelspec": {
   "display_name": "add-env",
   "language": "python",
   "name": "python3"
  },
  "language_info": {
   "codemirror_mode": {
    "name": "ipython",
    "version": 3
   },
   "file_extension": ".py",
   "mimetype": "text/x-python",
   "name": "python",
   "nbconvert_exporter": "python",
   "pygments_lexer": "ipython3",
   "version": "3.11.13"
  }
 },
 "nbformat": 4,
 "nbformat_minor": 4
}
